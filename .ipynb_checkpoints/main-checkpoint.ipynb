{
 "cells": [
  {
   "cell_type": "code",
   "execution_count": 350,
   "metadata": {
    "pycharm": {
     "is_executing": true
    }
   },
   "outputs": [],
   "source": [
    "import pandas as pd\n",
    "import numpy as np\n",
    "import matplotlib.pyplot as plt\n",
    "from pyecharts.charts import Pie\n",
    "import seaborn as sns\n",
    "sns.set_style('white',{'font.sans-serif':['simhei','Arial']})\n",
    "pd.set_option(\"display.max_column\", None)\n",
    "pd.set_option(\"display.max_row\",None)"
   ]
  },
  {
   "cell_type": "code",
   "execution_count": 351,
   "metadata": {
    "pycharm": {
     "is_executing": true,
     "name": "#%%\n"
    }
   },
   "outputs": [
    {
     "data": {
      "text/html": [
       "<div>\n",
       "<style scoped>\n",
       "    .dataframe tbody tr th:only-of-type {\n",
       "        vertical-align: middle;\n",
       "    }\n",
       "\n",
       "    .dataframe tbody tr th {\n",
       "        vertical-align: top;\n",
       "    }\n",
       "\n",
       "    .dataframe thead th {\n",
       "        text-align: right;\n",
       "    }\n",
       "</style>\n",
       "<table border=\"1\" class=\"dataframe\">\n",
       "  <thead>\n",
       "    <tr style=\"text-align: right;\">\n",
       "      <th></th>\n",
       "      <th>Unnamed: 0</th>\n",
       "      <th>_id</th>\n",
       "      <th>adWord</th>\n",
       "      <th>appShow</th>\n",
       "      <th>approve</th>\n",
       "      <th>businessZones</th>\n",
       "      <th>city</th>\n",
       "      <th>companyFullName</th>\n",
       "      <th>companyId</th>\n",
       "      <th>companyLabelList</th>\n",
       "      <th>companyLogo</th>\n",
       "      <th>companyShortName</th>\n",
       "      <th>companySize</th>\n",
       "      <th>createTime</th>\n",
       "      <th>deliver</th>\n",
       "      <th>district</th>\n",
       "      <th>education</th>\n",
       "      <th>explain</th>\n",
       "      <th>financeStage</th>\n",
       "      <th>firstType</th>\n",
       "      <th>formatCreateTime</th>\n",
       "      <th>gradeDescription</th>\n",
       "      <th>hitags</th>\n",
       "      <th>imState</th>\n",
       "      <th>industryField</th>\n",
       "      <th>industryLables</th>\n",
       "      <th>isHotHire</th>\n",
       "      <th>isSchoolJob</th>\n",
       "      <th>jobNature</th>\n",
       "      <th>lastLogin</th>\n",
       "      <th>latitude</th>\n",
       "      <th>linestaion</th>\n",
       "      <th>longitude</th>\n",
       "      <th>pcShow</th>\n",
       "      <th>plus</th>\n",
       "      <th>positionAdvantage</th>\n",
       "      <th>positionId</th>\n",
       "      <th>positionLables</th>\n",
       "      <th>positionName</th>\n",
       "      <th>promotionScoreExplain</th>\n",
       "      <th>publisherId</th>\n",
       "      <th>resumeProcessDay</th>\n",
       "      <th>resumeProcessRate</th>\n",
       "      <th>salary</th>\n",
       "      <th>score</th>\n",
       "      <th>secondType</th>\n",
       "      <th>skillLables</th>\n",
       "      <th>stationname</th>\n",
       "      <th>subwayline</th>\n",
       "      <th>thirdType</th>\n",
       "      <th>workYear</th>\n",
       "      <th>job_detail</th>\n",
       "    </tr>\n",
       "  </thead>\n",
       "  <tbody>\n",
       "    <tr>\n",
       "      <th>0</th>\n",
       "      <td>0</td>\n",
       "      <td>5de5e75734e608e63026c1bc</td>\n",
       "      <td>9</td>\n",
       "      <td>0</td>\n",
       "      <td>1</td>\n",
       "      <td>['亦庄']</td>\n",
       "      <td>北京</td>\n",
       "      <td>达疆网络科技（上海）有限公司</td>\n",
       "      <td>32836</td>\n",
       "      <td>['年底双薪', '绩效奖金', '岗位晋升', '定期体检']</td>\n",
       "      <td>i/image2/M01/AF/7F/CgotOV3kqOqAZvWrAAAaonXDCck...</td>\n",
       "      <td>达达-京东到家</td>\n",
       "      <td>2000人以上</td>\n",
       "      <td>2019-12-02 20:38:25</td>\n",
       "      <td>0</td>\n",
       "      <td>大兴区</td>\n",
       "      <td>本科</td>\n",
       "      <td>NaN</td>\n",
       "      <td>D轮及以上</td>\n",
       "      <td>产品|需求|项目类</td>\n",
       "      <td>1天前发布</td>\n",
       "      <td>NaN</td>\n",
       "      <td>['免费班车', '新婚红包', '定期调薪', '电脑补贴', '生子红包', '地铁周边...</td>\n",
       "      <td>today</td>\n",
       "      <td>消费生活</td>\n",
       "      <td>[]</td>\n",
       "      <td>0</td>\n",
       "      <td>0</td>\n",
       "      <td>全职</td>\n",
       "      <td>2019-12-03 10:33:07</td>\n",
       "      <td>39.795747</td>\n",
       "      <td>亦庄线_万源街;亦庄线_荣京东街</td>\n",
       "      <td>116.510442</td>\n",
       "      <td>0</td>\n",
       "      <td>NaN</td>\n",
       "      <td>成长快、氛围好、领导好</td>\n",
       "      <td>6638350</td>\n",
       "      <td>['BI', '数据分析']</td>\n",
       "      <td>数据分析岗</td>\n",
       "      <td>NaN</td>\n",
       "      <td>7855636</td>\n",
       "      <td>1</td>\n",
       "      <td>100</td>\n",
       "      <td>15k-30k</td>\n",
       "      <td>0</td>\n",
       "      <td>数据分析</td>\n",
       "      <td>['BI', '数据分析']</td>\n",
       "      <td>万源街</td>\n",
       "      <td>亦庄线</td>\n",
       "      <td>BI</td>\n",
       "      <td>3-5年</td>\n",
       "      <td>1 、负责o2o电商日常运营数据的统计, 监控, 梳理指标体系；||2、基于海量用户行为数据...</td>\n",
       "    </tr>\n",
       "  </tbody>\n",
       "</table>\n",
       "</div>"
      ],
      "text/plain": [
       "   Unnamed: 0                       _id  adWord  appShow  approve  \\\n",
       "0           0  5de5e75734e608e63026c1bc       9        0        1   \n",
       "\n",
       "  businessZones city companyFullName  companyId  \\\n",
       "0        ['亦庄']   北京  达疆网络科技（上海）有限公司      32836   \n",
       "\n",
       "                   companyLabelList  \\\n",
       "0  ['年底双薪', '绩效奖金', '岗位晋升', '定期体检']   \n",
       "\n",
       "                                         companyLogo companyShortName  \\\n",
       "0  i/image2/M01/AF/7F/CgotOV3kqOqAZvWrAAAaonXDCck...          达达-京东到家   \n",
       "\n",
       "  companySize           createTime  deliver district education  explain  \\\n",
       "0     2000人以上  2019-12-02 20:38:25        0      大兴区        本科      NaN   \n",
       "\n",
       "  financeStage  firstType formatCreateTime  gradeDescription  \\\n",
       "0        D轮及以上  产品|需求|项目类            1天前发布               NaN   \n",
       "\n",
       "                                              hitags imState industryField  \\\n",
       "0  ['免费班车', '新婚红包', '定期调薪', '电脑补贴', '生子红包', '地铁周边...   today          消费生活   \n",
       "\n",
       "  industryLables  isHotHire  isSchoolJob jobNature            lastLogin  \\\n",
       "0             []          0            0        全职  2019-12-03 10:33:07   \n",
       "\n",
       "    latitude        linestaion   longitude  pcShow  plus positionAdvantage  \\\n",
       "0  39.795747  亦庄线_万源街;亦庄线_荣京东街  116.510442       0   NaN       成长快、氛围好、领导好   \n",
       "\n",
       "   positionId  positionLables positionName  promotionScoreExplain  \\\n",
       "0     6638350  ['BI', '数据分析']        数据分析岗                    NaN   \n",
       "\n",
       "   publisherId  resumeProcessDay  resumeProcessRate   salary  score  \\\n",
       "0      7855636                 1                100  15k-30k      0   \n",
       "\n",
       "  secondType     skillLables stationname subwayline thirdType workYear  \\\n",
       "0       数据分析  ['BI', '数据分析']         万源街        亦庄线        BI     3-5年   \n",
       "\n",
       "                                          job_detail  \n",
       "0  1 、负责o2o电商日常运营数据的统计, 监控, 梳理指标体系；||2、基于海量用户行为数据...  "
      ]
     },
     "execution_count": 351,
     "metadata": {},
     "output_type": "execute_result"
    }
   ],
   "source": [
    "path = './data/lagou.csv'\n",
    "df = pd.read_csv(path)\n",
    "df.isnull().sum()\n",
    "df.head(1)"
   ]
  },
  {
   "cell_type": "code",
   "execution_count": 352,
   "metadata": {
    "pycharm": {
     "is_executing": true,
     "name": "#%%\n"
    }
   },
   "outputs": [],
   "source": [
    "\n",
    "columns = [\"positionName\", \"companyShortName\", \"city\", \"companySize\", \"education\", \"financeStage\",\n",
    "           \"industryField\", \"salary\", \"workYear\", \"hitags\", \"companyLabelList\", \"job_detail\"]\n",
    "df = df[columns].drop_duplicates() #去重\n"
   ]
  },
  {
   "cell_type": "markdown",
   "metadata": {},
   "source": [
    "## 分析目标\n",
    "- 各城市对数据分析岗位的需求量\n",
    "- 不同细分领域对数据分析岗位的需求情况\n",
    "- 薪资状况\n",
    "- 需要技能\n",
    "- 学历要求\n",
    "- 不同规模企业对薪资经验要求以及提供的薪资水平"
   ]
  },
  {
   "cell_type": "markdown",
   "metadata": {},
   "source": [
    "## 数据预处理"
   ]
  },
  {
   "cell_type": "markdown",
   "metadata": {},
   "source": [
    "### 过滤掉非数分岗的数据"
   ]
  },
  {
   "cell_type": "code",
   "execution_count": 353,
   "metadata": {
    "pycharm": {
     "is_executing": true
    }
   },
   "outputs": [
    {
     "name": "stdout",
     "output_type": "stream",
     "text": [
      "原始数据共2939条\n"
     ]
    }
   ],
   "source": [
    "n = df.shape[0]\n",
    "print('原始数据共{}条'.format(n))"
   ]
  },
  {
   "cell_type": "code",
   "execution_count": 354,
   "metadata": {
    "pycharm": {
     "is_executing": true
    },
    "scrolled": false
   },
   "outputs": [
    {
     "name": "stdout",
     "output_type": "stream",
     "text": [
      "删除1613条数据\n",
      "剩余1326条数据\n"
     ]
    }
   ],
   "source": [
    "contain = df['positionName'].str.contains('数据分析')\n",
    "not_contain = ~df['positionName'].str.contains('实习')\n",
    "\n",
    "n1 = df[contain & not_contain].shape[0]\n",
    "print('删除{}条数据'.format(n - n1))\n",
    "print('剩余{}条数据'.format(n1))"
   ]
  },
  {
   "cell_type": "code",
   "execution_count": 355,
   "metadata": {
    "pycharm": {
     "is_executing": true
    }
   },
   "outputs": [],
   "source": [
    "df = df[contain & not_contain]\n",
    "# drop默认删除行, inplace表示在原数据上进行操作\n",
    "df.drop(['positionName'], axis=1, inplace=True)\n",
    "# drop=True 不保留原来的index\n",
    "df.reset_index(drop=True, inplace=True)\n"
   ]
  },
  {
   "cell_type": "markdown",
   "metadata": {},
   "source": [
    "### 将薪水转化为数值"
   ]
  },
  {
   "cell_type": "markdown",
   "metadata": {},
   "source": [
    "将字符串区间如下，转化为均值作为对应薪水"
   ]
  },
  {
   "cell_type": "code",
   "execution_count": 356,
   "metadata": {
    "pycharm": {
     "is_executing": true
    }
   },
   "outputs": [
    {
     "data": {
      "text/plain": [
       "0    15k-30k\n",
       "1    10k-18k\n",
       "2    20k-30k\n",
       "3    33k-50k\n",
       "4    10k-15k\n",
       "Name: salary, dtype: object"
      ]
     },
     "execution_count": 356,
     "metadata": {},
     "output_type": "execute_result"
    }
   ],
   "source": [
    "df['salary'].head(5)"
   ]
  },
  {
   "cell_type": "code",
   "execution_count": 357,
   "metadata": {
    "pycharm": {
     "is_executing": true
    }
   },
   "outputs": [],
   "source": [
    "df['salary'] = df['salary'].str.lower().str.extract(r'(\\d+)[k]-(\\d+)[k]')\\\n",
    "               .applymap(lambda x: int(x)).mean(axis=1)\n",
    "# applymap 用于df 作用于每一个元素\n",
    "# map 做用于series 每个元素\n",
    "# apply 用于df 对row和column计算"
   ]
  },
  {
   "cell_type": "markdown",
   "metadata": {},
   "source": [
    "### 从job_detail中提取技能要求"
   ]
  },
  {
   "cell_type": "markdown",
   "metadata": {},
   "source": [
    "技能分为以下几类：\n",
    "- Python/R\n",
    "- SQL\n",
    "- Tableau\n",
    "- Excel\n",
    "处理方式：\n",
    "如果job_detail含有上述，则赋值1，反之赋值0。"
   ]
  },
  {
   "cell_type": "code",
   "execution_count": 358,
   "metadata": {
    "pycharm": {
     "is_executing": true
    }
   },
   "outputs": [],
   "source": [
    "df['job_detail'] = df['job_detail'].str.lower().fillna('')\n",
    "df['Python/R'] = df['job_detail'].map(lambda x: 1 if ('python' in x) or ('r' in x) else 0)\n",
    "df['SQL'] = df['job_detail'].map(lambda x: 1 if 'sql' in x else 0)\n",
    "df['Tableau'] = df['job_detail'].map(lambda x: 1 if 'tableau' in x else 0)\n",
    "df['Excel'] = df['job_detail'].map(lambda x: 1 if 'excel' in x else 0)"
   ]
  },
  {
   "cell_type": "code",
   "execution_count": 359,
   "metadata": {
    "pycharm": {
     "is_executing": true
    }
   },
   "outputs": [
    {
     "data": {
      "text/html": [
       "<div>\n",
       "<style scoped>\n",
       "    .dataframe tbody tr th:only-of-type {\n",
       "        vertical-align: middle;\n",
       "    }\n",
       "\n",
       "    .dataframe tbody tr th {\n",
       "        vertical-align: top;\n",
       "    }\n",
       "\n",
       "    .dataframe thead th {\n",
       "        text-align: right;\n",
       "    }\n",
       "</style>\n",
       "<table border=\"1\" class=\"dataframe\">\n",
       "  <thead>\n",
       "    <tr style=\"text-align: right;\">\n",
       "      <th></th>\n",
       "      <th>companyShortName</th>\n",
       "      <th>city</th>\n",
       "      <th>companySize</th>\n",
       "      <th>education</th>\n",
       "      <th>financeStage</th>\n",
       "      <th>industryField</th>\n",
       "      <th>salary</th>\n",
       "      <th>workYear</th>\n",
       "      <th>hitags</th>\n",
       "      <th>companyLabelList</th>\n",
       "      <th>job_detail</th>\n",
       "      <th>Python/R</th>\n",
       "      <th>SQL</th>\n",
       "      <th>Tableau</th>\n",
       "      <th>Excel</th>\n",
       "    </tr>\n",
       "  </thead>\n",
       "  <tbody>\n",
       "    <tr>\n",
       "      <th>0</th>\n",
       "      <td>达达-京东到家</td>\n",
       "      <td>北京</td>\n",
       "      <td>2000人以上</td>\n",
       "      <td>本科</td>\n",
       "      <td>D轮及以上</td>\n",
       "      <td>消费生活</td>\n",
       "      <td>22.5</td>\n",
       "      <td>3-5年</td>\n",
       "      <td>['免费班车', '新婚红包', '定期调薪', '电脑补贴', '生子红包', '地铁周边...</td>\n",
       "      <td>['年底双薪', '绩效奖金', '岗位晋升', '定期体检']</td>\n",
       "      <td>1 、负责o2o电商日常运营数据的统计, 监控, 梳理指标体系；||2、基于海量用户行为数据...</td>\n",
       "      <td>1</td>\n",
       "      <td>1</td>\n",
       "      <td>0</td>\n",
       "      <td>1</td>\n",
       "    </tr>\n",
       "  </tbody>\n",
       "</table>\n",
       "</div>"
      ],
      "text/plain": [
       "  companyShortName city companySize education financeStage industryField  \\\n",
       "0          达达-京东到家   北京     2000人以上        本科        D轮及以上          消费生活   \n",
       "\n",
       "   salary workYear                                             hitags  \\\n",
       "0    22.5     3-5年  ['免费班车', '新婚红包', '定期调薪', '电脑补贴', '生子红包', '地铁周边...   \n",
       "\n",
       "                   companyLabelList  \\\n",
       "0  ['年底双薪', '绩效奖金', '岗位晋升', '定期体检']   \n",
       "\n",
       "                                          job_detail  Python/R  SQL  Tableau  \\\n",
       "0  1 、负责o2o电商日常运营数据的统计, 监控, 梳理指标体系；||2、基于海量用户行为数据...         1    1        0   \n",
       "\n",
       "   Excel  \n",
       "0      1  "
      ]
     },
     "execution_count": 359,
     "metadata": {},
     "output_type": "execute_result"
    }
   ],
   "source": [
    "df.head(1)"
   ]
  },
  {
   "cell_type": "markdown",
   "metadata": {},
   "source": [
    "### 处理行业信息"
   ]
  },
  {
   "cell_type": "code",
   "execution_count": 360,
   "metadata": {
    "pycharm": {
     "is_executing": true
    }
   },
   "outputs": [],
   "source": [
    "def clean_industry_info(industry):\n",
    "    industry = industry.split(',')\n",
    "    if industry[0]==\"移动互联网\" and len(industry)>1:\n",
    "        return industry[1]\n",
    "    else:\n",
    "        return industry[0]\n",
    "df[\"industryField\"] = df.industryField.map(clean_industry_info)"
   ]
  },
  {
   "cell_type": "code",
   "execution_count": 361,
   "metadata": {
    "pycharm": {
     "is_executing": true
    }
   },
   "outputs": [
    {
     "data": {
      "text/plain": [
       "0     消费生活\n",
       "1    移动互联网\n",
       "2     消费生活\n",
       "3       电商\n",
       "4       电商\n",
       "Name: industryField, dtype: object"
      ]
     },
     "execution_count": 361,
     "metadata": {},
     "output_type": "execute_result"
    }
   ],
   "source": [
    "df[\"industryField\"].head(5)"
   ]
  },
  {
   "cell_type": "markdown",
   "metadata": {},
   "source": [
    "## 数据分析"
   ]
  },
  {
   "cell_type": "markdown",
   "metadata": {},
   "source": [
    "### 各城市对数据分析岗位的需求"
   ]
  },
  {
   "cell_type": "code",
   "execution_count": 362,
   "metadata": {
    "pycharm": {
     "is_executing": true
    }
   },
   "outputs": [
    {
     "name": "stderr",
     "output_type": "stream",
     "text": [
      "D:\\Python\\lib\\site-packages\\pyecharts\\charts\\chart.py:14: PendingDeprecationWarning: pyecharts 各 Chart 将在 1.9.0 版本开始强制使用 ChartItem 进行数据项配置\n",
      "  super().__init__(init_opts=init_opts)\n",
      "D:\\Python\\lib\\site-packages\\pyecharts\\charts\\chart.py:14: PendingDeprecationWarning: pyecharts 各 Chart 将在 1.9.0 版本开始强制使用 ChartItem 进行数据项配置\n",
      "  super().__init__(init_opts=init_opts)\n"
     ]
    },
    {
     "data": {
      "text/html": [
       "\n",
       "<script>\n",
       "    require.config({\n",
       "        paths: {\n",
       "            'echarts':'https://assets.pyecharts.org/assets/echarts.min'\n",
       "        }\n",
       "    });\n",
       "</script>\n",
       "\n",
       "        <div id=\"2b0cc1870a1b44b793a9950d53b0cf49\" style=\"width:900px; height:500px;\"></div>\n",
       "\n",
       "<script>\n",
       "        require(['echarts'], function(echarts) {\n",
       "                var chart_2b0cc1870a1b44b793a9950d53b0cf49 = echarts.init(\n",
       "                    document.getElementById('2b0cc1870a1b44b793a9950d53b0cf49'), 'white', {renderer: 'canvas'});\n",
       "                var option_2b0cc1870a1b44b793a9950d53b0cf49 = {\n",
       "    \"animation\": true,\n",
       "    \"animationThreshold\": 2000,\n",
       "    \"animationDuration\": 1000,\n",
       "    \"animationEasing\": \"cubicOut\",\n",
       "    \"animationDelay\": 0,\n",
       "    \"animationDurationUpdate\": 300,\n",
       "    \"animationEasingUpdate\": \"cubicOut\",\n",
       "    \"animationDelayUpdate\": 0,\n",
       "    \"color\": [\n",
       "        \"#c23531\",\n",
       "        \"#2f4554\",\n",
       "        \"#61a0a8\",\n",
       "        \"#d48265\",\n",
       "        \"#749f83\",\n",
       "        \"#ca8622\",\n",
       "        \"#bda29a\",\n",
       "        \"#6e7074\",\n",
       "        \"#546570\",\n",
       "        \"#c4ccd3\",\n",
       "        \"#f05b72\",\n",
       "        \"#ef5b9c\",\n",
       "        \"#f47920\",\n",
       "        \"#905a3d\",\n",
       "        \"#fab27b\",\n",
       "        \"#2a5caa\",\n",
       "        \"#444693\",\n",
       "        \"#726930\",\n",
       "        \"#b2d235\",\n",
       "        \"#6d8346\",\n",
       "        \"#ac6767\",\n",
       "        \"#1d953f\",\n",
       "        \"#6950a1\",\n",
       "        \"#918597\"\n",
       "    ],\n",
       "    \"series\": [\n",
       "        {\n",
       "            \"type\": \"line\",\n",
       "            \"connectNulls\": false,\n",
       "            \"symbolSize\": 4,\n",
       "            \"showSymbol\": true,\n",
       "            \"smooth\": false,\n",
       "            \"clip\": true,\n",
       "            \"step\": false,\n",
       "            \"data\": [\n",
       "                [\n",
       "                    \"\\u5317\\u4eac\",\n",
       "                    348\n",
       "                ],\n",
       "                [\n",
       "                    \"\\u4e0a\\u6d77\",\n",
       "                    328\n",
       "                ],\n",
       "                [\n",
       "                    \"\\u6df1\\u5733\",\n",
       "                    246\n",
       "                ],\n",
       "                [\n",
       "                    \"\\u5e7f\\u5dde\",\n",
       "                    163\n",
       "                ],\n",
       "                [\n",
       "                    \"\\u676d\\u5dde\",\n",
       "                    112\n",
       "                ],\n",
       "                [\n",
       "                    \"\\u6210\\u90fd\",\n",
       "                    39\n",
       "                ],\n",
       "                [\n",
       "                    \"\\u6b66\\u6c49\",\n",
       "                    27\n",
       "                ],\n",
       "                [\n",
       "                    \"\\u82cf\\u5dde\",\n",
       "                    14\n",
       "                ],\n",
       "                [\n",
       "                    \"\\u5357\\u4eac\",\n",
       "                    14\n",
       "                ],\n",
       "                [\n",
       "                    \"\\u53a6\\u95e8\",\n",
       "                    11\n",
       "                ],\n",
       "                [\n",
       "                    \"\\u897f\\u5b89\",\n",
       "                    10\n",
       "                ],\n",
       "                [\n",
       "                    \"\\u957f\\u6c99\",\n",
       "                    10\n",
       "                ],\n",
       "                [\n",
       "                    \"\\u5929\\u6d25\",\n",
       "                    4\n",
       "                ]\n",
       "            ],\n",
       "            \"hoverAnimation\": true,\n",
       "            \"label\": {\n",
       "                \"show\": true,\n",
       "                \"position\": \"top\",\n",
       "                \"margin\": 8\n",
       "            },\n",
       "            \"lineStyle\": {\n",
       "                \"show\": true,\n",
       "                \"width\": 1,\n",
       "                \"opacity\": 1,\n",
       "                \"curveness\": 0,\n",
       "                \"type\": \"solid\"\n",
       "            },\n",
       "            \"areaStyle\": {\n",
       "                \"opacity\": 0\n",
       "            },\n",
       "            \"zlevel\": 0,\n",
       "            \"z\": 0\n",
       "        },\n",
       "        {\n",
       "            \"type\": \"bar\",\n",
       "            \"legendHoverLink\": true,\n",
       "            \"data\": [\n",
       "                348,\n",
       "                328,\n",
       "                246,\n",
       "                163,\n",
       "                112,\n",
       "                39,\n",
       "                27,\n",
       "                14,\n",
       "                14,\n",
       "                11,\n",
       "                10,\n",
       "                10,\n",
       "                4\n",
       "            ],\n",
       "            \"showBackground\": false,\n",
       "            \"barMinHeight\": 0,\n",
       "            \"barCategoryGap\": \"20%\",\n",
       "            \"barGap\": \"30%\",\n",
       "            \"large\": false,\n",
       "            \"largeThreshold\": 400,\n",
       "            \"seriesLayoutBy\": \"column\",\n",
       "            \"datasetIndex\": 0,\n",
       "            \"clip\": true,\n",
       "            \"zlevel\": 0,\n",
       "            \"z\": 2,\n",
       "            \"label\": {\n",
       "                \"show\": false,\n",
       "                \"position\": \"top\",\n",
       "                \"margin\": 8\n",
       "            },\n",
       "            \"rippleEffect\": {\n",
       "                \"show\": true,\n",
       "                \"brushType\": \"stroke\",\n",
       "                \"scale\": 2.5,\n",
       "                \"period\": 4\n",
       "            }\n",
       "        }\n",
       "    ],\n",
       "    \"legend\": [\n",
       "        {\n",
       "            \"data\": [\n",
       "                \"\",\n",
       "                \"\"\n",
       "            ],\n",
       "            \"selected\": {\n",
       "                \"\": true\n",
       "            },\n",
       "            \"show\": true,\n",
       "            \"padding\": 5,\n",
       "            \"itemGap\": 10,\n",
       "            \"itemWidth\": 25,\n",
       "            \"itemHeight\": 14\n",
       "        }\n",
       "    ],\n",
       "    \"tooltip\": {\n",
       "        \"show\": true,\n",
       "        \"trigger\": \"item\",\n",
       "        \"triggerOn\": \"mousemove|click\",\n",
       "        \"axisPointer\": {\n",
       "            \"type\": \"line\"\n",
       "        },\n",
       "        \"showContent\": true,\n",
       "        \"alwaysShowContent\": false,\n",
       "        \"showDelay\": 0,\n",
       "        \"hideDelay\": 100,\n",
       "        \"textStyle\": {\n",
       "            \"fontSize\": 14\n",
       "        },\n",
       "        \"borderWidth\": 0,\n",
       "        \"padding\": 5\n",
       "    },\n",
       "    \"xAxis\": [\n",
       "        {\n",
       "            \"show\": true,\n",
       "            \"scale\": false,\n",
       "            \"nameLocation\": \"end\",\n",
       "            \"nameGap\": 15,\n",
       "            \"gridIndex\": 0,\n",
       "            \"inverse\": false,\n",
       "            \"offset\": 0,\n",
       "            \"splitNumber\": 5,\n",
       "            \"minInterval\": 0,\n",
       "            \"splitLine\": {\n",
       "                \"show\": false,\n",
       "                \"lineStyle\": {\n",
       "                    \"show\": true,\n",
       "                    \"width\": 1,\n",
       "                    \"opacity\": 1,\n",
       "                    \"curveness\": 0,\n",
       "                    \"type\": \"solid\"\n",
       "                }\n",
       "            },\n",
       "            \"data\": [\n",
       "                \"\\u5317\\u4eac\",\n",
       "                \"\\u4e0a\\u6d77\",\n",
       "                \"\\u6df1\\u5733\",\n",
       "                \"\\u5e7f\\u5dde\",\n",
       "                \"\\u676d\\u5dde\",\n",
       "                \"\\u6210\\u90fd\",\n",
       "                \"\\u6b66\\u6c49\",\n",
       "                \"\\u82cf\\u5dde\",\n",
       "                \"\\u5357\\u4eac\",\n",
       "                \"\\u53a6\\u95e8\",\n",
       "                \"\\u897f\\u5b89\",\n",
       "                \"\\u957f\\u6c99\",\n",
       "                \"\\u5929\\u6d25\"\n",
       "            ]\n",
       "        }\n",
       "    ],\n",
       "    \"yAxis\": [\n",
       "        {\n",
       "            \"show\": true,\n",
       "            \"scale\": false,\n",
       "            \"nameLocation\": \"end\",\n",
       "            \"nameGap\": 15,\n",
       "            \"gridIndex\": 0,\n",
       "            \"inverse\": false,\n",
       "            \"offset\": 0,\n",
       "            \"splitNumber\": 5,\n",
       "            \"minInterval\": 0,\n",
       "            \"splitLine\": {\n",
       "                \"show\": false,\n",
       "                \"lineStyle\": {\n",
       "                    \"show\": true,\n",
       "                    \"width\": 1,\n",
       "                    \"opacity\": 1,\n",
       "                    \"curveness\": 0,\n",
       "                    \"type\": \"solid\"\n",
       "                }\n",
       "            }\n",
       "        }\n",
       "    ],\n",
       "    \"title\": [\n",
       "        {\n",
       "            \"text\": \"\\u5404\\u57ce\\u5e02\\u5bf9\\u6570\\u636e\\u5206\\u6790\\u5e08\\u7684\\u9700\\u6c42\",\n",
       "            \"padding\": 5,\n",
       "            \"itemGap\": 10\n",
       "        }\n",
       "    ]\n",
       "};\n",
       "                chart_2b0cc1870a1b44b793a9950d53b0cf49.setOption(option_2b0cc1870a1b44b793a9950d53b0cf49);\n",
       "        });\n",
       "    </script>\n"
      ],
      "text/plain": [
       "<pyecharts.render.display.HTML at 0x28d5dd102b0>"
      ]
     },
     "execution_count": 362,
     "metadata": {},
     "output_type": "execute_result"
    }
   ],
   "source": [
    "from pyecharts.globals import NotebookType,CurrentConfig\n",
    "CurrentConfig.NOTEBOOK_TYPE = NotebookType.JUPYTER_NOTEBOOK\n",
    "from pyecharts.charts import *\n",
    "from pyecharts import options as opts\n",
    "\n",
    "# 得到顺序数据\n",
    "city = df['city'].value_counts()\n",
    "city_index = city.index.tolist()\n",
    "city = city.tolist()\n",
    "\n",
    "bar = Bar()\n",
    "bar.add_xaxis(city_index)\n",
    "bar.add_yaxis('',city)\n",
    "# 取消标签设置\n",
    "bar.set_series_opts(label_opts=opts.LabelOpts(is_show=False))\n",
    "line = Line()\n",
    "line.add_xaxis(city_index)\n",
    "line.add_yaxis('',city)\n",
    "overlap = line.overlap(bar)\n",
    "\n",
    "overlap.set_global_opts(title_opts=opts.TitleOpts(title = '各城市对数据分析师的需求'))\n",
    "overlap.load_javascript()\n",
    "overlap.render_notebook()"
   ]
  },
  {
   "cell_type": "markdown",
   "metadata": {
    "pycharm": {
     "is_executing": true
    }
   },
   "source": [
    "北上广深四个一线城市对数据分析师的需求量较大。北京上海位列一二，所以想求职数分岗位的可以去一线城市寻求更多的机会。\n",
    "\n"
   ]
  },
  {
   "cell_type": "markdown",
   "metadata": {
    "pycharm": {
     "is_executing": true,
     "name": "#%%\n"
    }
   },
   "source": [
    "### 不同领域对数据分析师的需求"
   ]
  },
  {
   "cell_type": "code",
   "execution_count": 363,
   "metadata": {},
   "outputs": [
    {
     "name": "stderr",
     "output_type": "stream",
     "text": [
      "D:\\Python\\lib\\site-packages\\pyecharts\\charts\\chart.py:14: PendingDeprecationWarning: pyecharts 各 Chart 将在 1.9.0 版本开始强制使用 ChartItem 进行数据项配置\n",
      "  super().__init__(init_opts=init_opts)\n",
      "D:\\Python\\lib\\site-packages\\pyecharts\\charts\\chart.py:14: PendingDeprecationWarning: pyecharts 各 Chart 将在 1.9.0 版本开始强制使用 ChartItem 进行数据项配置\n",
      "  super().__init__(init_opts=init_opts)\n"
     ]
    },
    {
     "data": {
      "text/html": [
       "\n",
       "<script>\n",
       "    require.config({\n",
       "        paths: {\n",
       "            'echarts':'https://assets.pyecharts.org/assets/echarts.min'\n",
       "        }\n",
       "    });\n",
       "</script>\n",
       "\n",
       "        <div id=\"e7bb6e3a439441a8af37b83758cb68ea\" style=\"width:900px; height:500px;\"></div>\n",
       "\n",
       "<script>\n",
       "        require(['echarts'], function(echarts) {\n",
       "                var chart_e7bb6e3a439441a8af37b83758cb68ea = echarts.init(\n",
       "                    document.getElementById('e7bb6e3a439441a8af37b83758cb68ea'), 'white', {renderer: 'canvas'});\n",
       "                var option_e7bb6e3a439441a8af37b83758cb68ea = {\n",
       "    \"animation\": true,\n",
       "    \"animationThreshold\": 2000,\n",
       "    \"animationDuration\": 1000,\n",
       "    \"animationEasing\": \"cubicOut\",\n",
       "    \"animationDelay\": 0,\n",
       "    \"animationDurationUpdate\": 300,\n",
       "    \"animationEasingUpdate\": \"cubicOut\",\n",
       "    \"animationDelayUpdate\": 0,\n",
       "    \"color\": [\n",
       "        \"#c23531\",\n",
       "        \"#2f4554\",\n",
       "        \"#61a0a8\",\n",
       "        \"#d48265\",\n",
       "        \"#749f83\",\n",
       "        \"#ca8622\",\n",
       "        \"#bda29a\",\n",
       "        \"#6e7074\",\n",
       "        \"#546570\",\n",
       "        \"#c4ccd3\",\n",
       "        \"#f05b72\",\n",
       "        \"#ef5b9c\",\n",
       "        \"#f47920\",\n",
       "        \"#905a3d\",\n",
       "        \"#fab27b\",\n",
       "        \"#2a5caa\",\n",
       "        \"#444693\",\n",
       "        \"#726930\",\n",
       "        \"#b2d235\",\n",
       "        \"#6d8346\",\n",
       "        \"#ac6767\",\n",
       "        \"#1d953f\",\n",
       "        \"#6950a1\",\n",
       "        \"#918597\"\n",
       "    ],\n",
       "    \"series\": [\n",
       "        {\n",
       "            \"type\": \"line\",\n",
       "            \"connectNulls\": false,\n",
       "            \"symbolSize\": 4,\n",
       "            \"showSymbol\": true,\n",
       "            \"smooth\": false,\n",
       "            \"clip\": true,\n",
       "            \"step\": false,\n",
       "            \"data\": [\n",
       "                [\n",
       "                    \"\\u7535\\u5546\",\n",
       "                    204\n",
       "                ],\n",
       "                [\n",
       "                    \"\\u91d1\\u878d\",\n",
       "                    198\n",
       "                ],\n",
       "                [\n",
       "                    \"\\u6570\\u636e\\u670d\\u52a1\",\n",
       "                    132\n",
       "                ],\n",
       "                [\n",
       "                    \"\\u79fb\\u52a8\\u4e92\\u8054\\u7f51\",\n",
       "                    103\n",
       "                ],\n",
       "                [\n",
       "                    \"\\u6d88\\u8d39\\u751f\\u6d3b\",\n",
       "                    97\n",
       "                ],\n",
       "                [\n",
       "                    \"\\u4f01\\u4e1a\\u670d\\u52a1\",\n",
       "                    89\n",
       "                ],\n",
       "                [\n",
       "                    \"\\u6587\\u5a31\\u4e28\\u5185\\u5bb9\",\n",
       "                    79\n",
       "                ],\n",
       "                [\n",
       "                    \"\\u6e38\\u620f\",\n",
       "                    70\n",
       "                ],\n",
       "                [\n",
       "                    \"\\u793e\\u4ea4\",\n",
       "                    64\n",
       "                ],\n",
       "                [\n",
       "                    \"\\u6559\\u80b2\",\n",
       "                    49\n",
       "                ]\n",
       "            ],\n",
       "            \"hoverAnimation\": true,\n",
       "            \"label\": {\n",
       "                \"show\": true,\n",
       "                \"position\": \"top\",\n",
       "                \"margin\": 8\n",
       "            },\n",
       "            \"lineStyle\": {\n",
       "                \"show\": true,\n",
       "                \"width\": 1,\n",
       "                \"opacity\": 1,\n",
       "                \"curveness\": 0,\n",
       "                \"type\": \"solid\"\n",
       "            },\n",
       "            \"areaStyle\": {\n",
       "                \"opacity\": 0\n",
       "            },\n",
       "            \"zlevel\": 0,\n",
       "            \"z\": 0\n",
       "        },\n",
       "        {\n",
       "            \"type\": \"bar\",\n",
       "            \"legendHoverLink\": true,\n",
       "            \"data\": [\n",
       "                204,\n",
       "                198,\n",
       "                132,\n",
       "                103,\n",
       "                97,\n",
       "                89,\n",
       "                79,\n",
       "                70,\n",
       "                64,\n",
       "                49\n",
       "            ],\n",
       "            \"showBackground\": false,\n",
       "            \"barMinHeight\": 0,\n",
       "            \"barCategoryGap\": \"20%\",\n",
       "            \"barGap\": \"30%\",\n",
       "            \"large\": false,\n",
       "            \"largeThreshold\": 400,\n",
       "            \"seriesLayoutBy\": \"column\",\n",
       "            \"datasetIndex\": 0,\n",
       "            \"clip\": true,\n",
       "            \"zlevel\": 0,\n",
       "            \"z\": 2,\n",
       "            \"label\": {\n",
       "                \"show\": false,\n",
       "                \"position\": \"top\",\n",
       "                \"margin\": 8\n",
       "            },\n",
       "            \"rippleEffect\": {\n",
       "                \"show\": true,\n",
       "                \"brushType\": \"stroke\",\n",
       "                \"scale\": 2.5,\n",
       "                \"period\": 4\n",
       "            }\n",
       "        }\n",
       "    ],\n",
       "    \"legend\": [\n",
       "        {\n",
       "            \"data\": [\n",
       "                \"\",\n",
       "                \"\"\n",
       "            ],\n",
       "            \"selected\": {\n",
       "                \"\": true\n",
       "            },\n",
       "            \"show\": true,\n",
       "            \"padding\": 5,\n",
       "            \"itemGap\": 10,\n",
       "            \"itemWidth\": 25,\n",
       "            \"itemHeight\": 14\n",
       "        }\n",
       "    ],\n",
       "    \"tooltip\": {\n",
       "        \"show\": true,\n",
       "        \"trigger\": \"item\",\n",
       "        \"triggerOn\": \"mousemove|click\",\n",
       "        \"axisPointer\": {\n",
       "            \"type\": \"line\"\n",
       "        },\n",
       "        \"showContent\": true,\n",
       "        \"alwaysShowContent\": false,\n",
       "        \"showDelay\": 0,\n",
       "        \"hideDelay\": 100,\n",
       "        \"textStyle\": {\n",
       "            \"fontSize\": 14\n",
       "        },\n",
       "        \"borderWidth\": 0,\n",
       "        \"padding\": 5\n",
       "    },\n",
       "    \"xAxis\": [\n",
       "        {\n",
       "            \"show\": true,\n",
       "            \"scale\": false,\n",
       "            \"nameLocation\": \"end\",\n",
       "            \"nameGap\": 15,\n",
       "            \"gridIndex\": 0,\n",
       "            \"inverse\": false,\n",
       "            \"offset\": 0,\n",
       "            \"splitNumber\": 5,\n",
       "            \"minInterval\": 0,\n",
       "            \"splitLine\": {\n",
       "                \"show\": false,\n",
       "                \"lineStyle\": {\n",
       "                    \"show\": true,\n",
       "                    \"width\": 1,\n",
       "                    \"opacity\": 1,\n",
       "                    \"curveness\": 0,\n",
       "                    \"type\": \"solid\"\n",
       "                }\n",
       "            },\n",
       "            \"data\": [\n",
       "                \"\\u7535\\u5546\",\n",
       "                \"\\u91d1\\u878d\",\n",
       "                \"\\u6570\\u636e\\u670d\\u52a1\",\n",
       "                \"\\u79fb\\u52a8\\u4e92\\u8054\\u7f51\",\n",
       "                \"\\u6d88\\u8d39\\u751f\\u6d3b\",\n",
       "                \"\\u4f01\\u4e1a\\u670d\\u52a1\",\n",
       "                \"\\u6587\\u5a31\\u4e28\\u5185\\u5bb9\",\n",
       "                \"\\u6e38\\u620f\",\n",
       "                \"\\u793e\\u4ea4\",\n",
       "                \"\\u6559\\u80b2\"\n",
       "            ]\n",
       "        }\n",
       "    ],\n",
       "    \"yAxis\": [\n",
       "        {\n",
       "            \"show\": true,\n",
       "            \"scale\": false,\n",
       "            \"nameLocation\": \"end\",\n",
       "            \"nameGap\": 15,\n",
       "            \"gridIndex\": 0,\n",
       "            \"inverse\": false,\n",
       "            \"offset\": 0,\n",
       "            \"splitNumber\": 5,\n",
       "            \"minInterval\": 0,\n",
       "            \"splitLine\": {\n",
       "                \"show\": false,\n",
       "                \"lineStyle\": {\n",
       "                    \"show\": true,\n",
       "                    \"width\": 1,\n",
       "                    \"opacity\": 1,\n",
       "                    \"curveness\": 0,\n",
       "                    \"type\": \"solid\"\n",
       "                }\n",
       "            }\n",
       "        }\n",
       "    ],\n",
       "    \"title\": [\n",
       "        {\n",
       "            \"text\": \"\\u4e0d\\u540c\\u9886\\u57df\\u5bf9\\u6570\\u636e\\u5206\\u6790\\u5e08\\u7684\\u9700\\u6c42\",\n",
       "            \"padding\": 5,\n",
       "            \"itemGap\": 10\n",
       "        }\n",
       "    ]\n",
       "};\n",
       "                chart_e7bb6e3a439441a8af37b83758cb68ea.setOption(option_e7bb6e3a439441a8af37b83758cb68ea);\n",
       "        });\n",
       "    </script>\n"
      ],
      "text/plain": [
       "<pyecharts.render.display.HTML at 0x28d636af748>"
      ]
     },
     "execution_count": 363,
     "metadata": {},
     "output_type": "execute_result"
    }
   ],
   "source": [
    "industry = df['industryField'].value_counts()[:10]\n",
    "industry_index = industry.index.tolist()\n",
    "industry = industry.tolist()\n",
    "\n",
    "\n",
    "bar = Bar()\n",
    "bar.add_xaxis(industry_index)\n",
    "bar.add_yaxis('',industry)\n",
    "# 取消标签设置\n",
    "bar.set_series_opts(label_opts=opts.LabelOpts(is_show=False))\n",
    "line = Line()\n",
    "line.add_xaxis(industry_index)\n",
    "line.add_yaxis('',industry)\n",
    "overlap = line.overlap(bar)\n",
    "\n",
    "overlap.set_global_opts(title_opts=opts.TitleOpts(title = '不同领域对数据分析师的需求'))\n",
    "overlap.load_javascript()\n",
    "overlap.render_notebook()"
   ]
  },
  {
   "cell_type": "markdown",
   "metadata": {},
   "source": [
    "电商、金融和数据服务这三个领域的需求量位列前三位，电商和金融领域的需求远远超过其他领域。其他领域如消费生活、企业服务和文娱业也有不少的机会。"
   ]
  },
  {
   "cell_type": "markdown",
   "metadata": {},
   "source": [
    "### 各城市薪资状况"
   ]
  },
  {
   "cell_type": "code",
   "execution_count": 364,
   "metadata": {},
   "outputs": [
    {
     "data": {
      "text/plain": [
       "Text(0, 0.5, '')"
      ]
     },
     "execution_count": 364,
     "metadata": {},
     "output_type": "execute_result"
    },
    {
     "data": {
      "image/png": "[encoded data removed]",
      "text/plain": [
       "<Figure size 864x576 with 1 Axes>"
      ]
     },
     "metadata": {},
     "output_type": "display_data"
    }
   ],
   "source": [
    "fig,ax = plt.subplots(figsize=(12,8))\n",
    "city_order = df.groupby(\"city\")[\"salary\"].mean()\\\n",
    "               .sort_values()\\\n",
    "               .index.tolist()\n",
    "sns.barplot(x=\"city\", y=\"salary\", order=city_order, data=df, ci=95,palette=\"RdBu_r\")\n",
    "fig.text(x=0.04, y=0.90, s='              各城市的薪资水平对比              ', \n",
    "         fontsize=32, weight='bold', color='white', backgroundcolor='#3c7f99')\n",
    "plt.tick_params(axis=\"both\",labelsize=16,)\n",
    "ax.yaxis.grid(which='both', linewidth=0.5, color='black')\n",
    "ax.set_yticklabels([\" \",\"5k\",\"10k\",\"15k\",\"20k\"])\n",
    "plt.box(False)\n",
    "plt.xlabel('')\n",
    "plt.ylabel('')"
   ]
  },
  {
   "cell_type": "markdown",
   "metadata": {},
   "source": [
    "在平均薪资方面，北京、上海、杭州、深圳均给出20k。但是广州作为需求大的城市，给出的薪资却少于上述四个城市，下面绘出该四个城市的分布图。"
   ]
  },
  {
   "cell_type": "code",
   "execution_count": 365,
   "metadata": {},
   "outputs": [
    {
     "data": {
      "text/plain": [
       "<matplotlib.legend.Legend at 0x28d637fed68>"
      ]
     },
     "execution_count": 365,
     "metadata": {},
     "output_type": "execute_result"
    },
    {
     "data": {
      "image/png": "[encoded data removed]",
      "text/plain": [
       "<Figure size 864x576 with 1 Axes>"
      ]
     },
     "metadata": {},
     "output_type": "display_data"
    }
   ],
   "source": [
    "fig,ax = plt.subplots(figsize=(12,8))\n",
    "fig.text(x=0.04, y=0.90, s='           一线城市的薪资分布对比             ', \n",
    "         fontsize=32, weight='bold', color='white', backgroundcolor='#c5b783')\n",
    "sns.kdeplot(df[df[\"city\"]=='北京'][\"salary\"],shade=True,label=\"北京\")\n",
    "sns.kdeplot(df[df[\"city\"]=='上海'][\"salary\"],shade=True,label=\"上海\")\n",
    "sns.kdeplot(df[df[\"city\"]=='广州'][\"salary\"],shade=True,label=\"广州\")\n",
    "sns.kdeplot(df[df[\"city\"]=='深圳'][\"salary\"],shade=True,label=\"深圳\")\n",
    "plt.tick_params(axis='both', which='major', labelsize=16)\n",
    "plt.box(False)\n",
    "plt.xticks(np.arange(0,61,10), [str(i)+\"k\" for i in range(0,61,10)])\n",
    "plt.yticks([])\n",
    "plt.legend(fontsize = 'xx-large',fancybox=None)"
   ]
  },
  {
   "cell_type": "markdown",
   "metadata": {},
   "source": [
    "从薪资分布来看，深圳和上海的分布较为接近，而广州大多数职位的薪水在10k左右，且分布差异较大。"
   ]
  },
  {
   "cell_type": "markdown",
   "metadata": {},
   "source": [
    "那会不会是因为广州的招聘信息中，工作经验要求低的岗位占比较高而拉低了整体的薪资水平呢（一般越资深的数据分析师工资会越高）？"
   ]
  },
  {
   "cell_type": "markdown",
   "metadata": {},
   "source": [
    "### 工作经验与薪水的关系"
   ]
  },
  {
   "cell_type": "code",
   "execution_count": 366,
   "metadata": {},
   "outputs": [
    {
     "data": {
      "text/html": [
       "<div>\n",
       "<style scoped>\n",
       "    .dataframe tbody tr th:only-of-type {\n",
       "        vertical-align: middle;\n",
       "    }\n",
       "\n",
       "    .dataframe tbody tr th {\n",
       "        vertical-align: top;\n",
       "    }\n",
       "\n",
       "    .dataframe thead th {\n",
       "        text-align: right;\n",
       "    }\n",
       "</style>\n",
       "<table border=\"1\" class=\"dataframe\">\n",
       "  <thead>\n",
       "    <tr style=\"text-align: right;\">\n",
       "      <th>workYear</th>\n",
       "      <th>应届毕业生</th>\n",
       "      <th>1-3年</th>\n",
       "      <th>3-5年</th>\n",
       "      <th>5-10年</th>\n",
       "    </tr>\n",
       "    <tr>\n",
       "      <th>city</th>\n",
       "      <th></th>\n",
       "      <th></th>\n",
       "      <th></th>\n",
       "      <th></th>\n",
       "    </tr>\n",
       "  </thead>\n",
       "  <tbody>\n",
       "    <tr>\n",
       "      <th>西安</th>\n",
       "      <td>12.000000</td>\n",
       "      <td>6.250000</td>\n",
       "      <td>11.000000</td>\n",
       "      <td>NaN</td>\n",
       "    </tr>\n",
       "    <tr>\n",
       "      <th>天津</th>\n",
       "      <td>NaN</td>\n",
       "      <td>8.500000</td>\n",
       "      <td>9.000000</td>\n",
       "      <td>NaN</td>\n",
       "    </tr>\n",
       "    <tr>\n",
       "      <th>长沙</th>\n",
       "      <td>NaN</td>\n",
       "      <td>10.500000</td>\n",
       "      <td>11.000000</td>\n",
       "      <td>18.250000</td>\n",
       "    </tr>\n",
       "    <tr>\n",
       "      <th>成都</th>\n",
       "      <td>10.500000</td>\n",
       "      <td>9.500000</td>\n",
       "      <td>15.833333</td>\n",
       "      <td>18.333333</td>\n",
       "    </tr>\n",
       "    <tr>\n",
       "      <th>厦门</th>\n",
       "      <td>10.000000</td>\n",
       "      <td>11.375000</td>\n",
       "      <td>14.400000</td>\n",
       "      <td>NaN</td>\n",
       "    </tr>\n",
       "    <tr>\n",
       "      <th>武汉</th>\n",
       "      <td>9.000000</td>\n",
       "      <td>6.666667</td>\n",
       "      <td>17.300000</td>\n",
       "      <td>22.250000</td>\n",
       "    </tr>\n",
       "    <tr>\n",
       "      <th>广州</th>\n",
       "      <td>8.727273</td>\n",
       "      <td>10.915094</td>\n",
       "      <td>18.508621</td>\n",
       "      <td>24.800000</td>\n",
       "    </tr>\n",
       "    <tr>\n",
       "      <th>南京</th>\n",
       "      <td>12.500000</td>\n",
       "      <td>11.625000</td>\n",
       "      <td>21.000000</td>\n",
       "      <td>NaN</td>\n",
       "    </tr>\n",
       "    <tr>\n",
       "      <th>苏州</th>\n",
       "      <td>NaN</td>\n",
       "      <td>10.583333</td>\n",
       "      <td>20.750000</td>\n",
       "      <td>30.000000</td>\n",
       "    </tr>\n",
       "    <tr>\n",
       "      <th>深圳</th>\n",
       "      <td>10.333333</td>\n",
       "      <td>15.268116</td>\n",
       "      <td>23.400000</td>\n",
       "      <td>32.181818</td>\n",
       "    </tr>\n",
       "    <tr>\n",
       "      <th>杭州</th>\n",
       "      <td>12.500000</td>\n",
       "      <td>13.619048</td>\n",
       "      <td>20.612245</td>\n",
       "      <td>30.900000</td>\n",
       "    </tr>\n",
       "    <tr>\n",
       "      <th>上海</th>\n",
       "      <td>11.038462</td>\n",
       "      <td>16.268868</td>\n",
       "      <td>23.722628</td>\n",
       "      <td>30.097826</td>\n",
       "    </tr>\n",
       "    <tr>\n",
       "      <th>北京</th>\n",
       "      <td>10.190476</td>\n",
       "      <td>17.361111</td>\n",
       "      <td>24.008475</td>\n",
       "      <td>32.446809</td>\n",
       "    </tr>\n",
       "  </tbody>\n",
       "</table>\n",
       "</div>"
      ],
      "text/plain": [
       "workYear      应届毕业生       1-3年       3-5年      5-10年\n",
       "city                                                \n",
       "西安        12.000000   6.250000  11.000000        NaN\n",
       "天津              NaN   8.500000   9.000000        NaN\n",
       "长沙              NaN  10.500000  11.000000  18.250000\n",
       "成都        10.500000   9.500000  15.833333  18.333333\n",
       "厦门        10.000000  11.375000  14.400000        NaN\n",
       "武汉         9.000000   6.666667  17.300000  22.250000\n",
       "广州         8.727273  10.915094  18.508621  24.800000\n",
       "南京        12.500000  11.625000  21.000000        NaN\n",
       "苏州              NaN  10.583333  20.750000  30.000000\n",
       "深圳        10.333333  15.268116  23.400000  32.181818\n",
       "杭州        12.500000  13.619048  20.612245  30.900000\n",
       "上海        11.038462  16.268868  23.722628  30.097826\n",
       "北京        10.190476  17.361111  24.008475  32.446809"
      ]
     },
     "execution_count": 366,
     "metadata": {},
     "output_type": "execute_result"
    }
   ],
   "source": [
    "C_W_S = df.pivot_table(index=\"city\",columns=\"workYear\",values=\"salary\")\n",
    "C_W_S = C_W_S[[\"应届毕业生\",\"1-3年\",\"3-5年\",\"5-10年\"]]\n",
    "C_W_S.loc[city_order]"
   ]
  },
  {
   "cell_type": "code",
   "execution_count": 367,
   "metadata": {},
   "outputs": [
    {
     "data": {
      "text/plain": [
       "(Text(0.5, 51.34375, ''), Text(69.078125, 0.5, ''))"
      ]
     },
     "execution_count": 367,
     "metadata": {},
     "output_type": "execute_result"
    },
    {
     "data": {
      "image/png": "[encoded data removed]",
      "text/plain": [
       "<Figure size 720x576 with 2 Axes>"
      ]
     },
     "metadata": {},
     "output_type": "display_data"
    }
   ],
   "source": [
    "fig,ax = plt.subplots(figsize=(10,8))\n",
    "sns.heatmap(C_W_S.loc[df[\"city\"].value_counts().index],cmap=\"RdBu_r\",center=20,annot=True,annot_kws={'fontsize':14})\n",
    "plt.tick_params(axis='x', which='major', labelsize=16)\n",
    "plt.tick_params(axis='y', which='major', labelsize=16,labelrotation=0)\n",
    "plt.xlabel(\"\"),plt.ylabel(\"\")"
   ]
  },
  {
   "cell_type": "markdown",
   "metadata": {},
   "source": [
    "横向来看，随着工作经验的递增，平均的薪资也逐步递增。\n",
    "纵向来看，不同经验下，广州所给出的平均薪资确实要少于北上深。"
   ]
  },
  {
   "cell_type": "markdown",
   "metadata": {},
   "source": [
    "### 技术要求"
   ]
  },
  {
   "cell_type": "code",
   "execution_count": 368,
   "metadata": {},
   "outputs": [
    {
     "name": "stdout",
     "output_type": "stream",
     "text": [
      "职位技能需求：\n",
      "Python/R： 0.6078431372549019\n",
      "SQL： 0.5897435897435898\n",
      "Excel： 0.3310708898944193\n",
      "Tableau： 0.09502262443438914\n"
     ]
    },
    {
     "name": "stderr",
     "output_type": "stream",
     "text": [
      "D:\\Python\\lib\\site-packages\\pyecharts\\charts\\chart.py:14: PendingDeprecationWarning: pyecharts 各 Chart 将在 1.9.0 版本开始强制使用 ChartItem 进行数据项配置\n",
      "  super().__init__(init_opts=init_opts)\n"
     ]
    },
    {
     "data": {
      "text/html": [
       "\n",
       "<script>\n",
       "    require.config({\n",
       "        paths: {\n",
       "            'echarts':'https://assets.pyecharts.org/assets/echarts.min'\n",
       "        }\n",
       "    });\n",
       "</script>\n",
       "\n",
       "        <div id=\"aa4590e721aa49e290d3f9f157b386a1\" style=\"width:900px; height:500px;\"></div>\n",
       "\n",
       "<script>\n",
       "        require(['echarts'], function(echarts) {\n",
       "                var chart_aa4590e721aa49e290d3f9f157b386a1 = echarts.init(\n",
       "                    document.getElementById('aa4590e721aa49e290d3f9f157b386a1'), 'white', {renderer: 'canvas'});\n",
       "                var option_aa4590e721aa49e290d3f9f157b386a1 = {\n",
       "    \"animation\": true,\n",
       "    \"animationThreshold\": 2000,\n",
       "    \"animationDuration\": 1000,\n",
       "    \"animationEasing\": \"cubicOut\",\n",
       "    \"animationDelay\": 0,\n",
       "    \"animationDurationUpdate\": 300,\n",
       "    \"animationEasingUpdate\": \"cubicOut\",\n",
       "    \"animationDelayUpdate\": 0,\n",
       "    \"color\": [\n",
       "        \"#c23531\",\n",
       "        \"#2f4554\",\n",
       "        \"#61a0a8\",\n",
       "        \"#d48265\",\n",
       "        \"#749f83\",\n",
       "        \"#ca8622\",\n",
       "        \"#bda29a\",\n",
       "        \"#6e7074\",\n",
       "        \"#546570\",\n",
       "        \"#c4ccd3\",\n",
       "        \"#f05b72\",\n",
       "        \"#ef5b9c\",\n",
       "        \"#f47920\",\n",
       "        \"#905a3d\",\n",
       "        \"#fab27b\",\n",
       "        \"#2a5caa\",\n",
       "        \"#444693\",\n",
       "        \"#726930\",\n",
       "        \"#b2d235\",\n",
       "        \"#6d8346\",\n",
       "        \"#ac6767\",\n",
       "        \"#1d953f\",\n",
       "        \"#6950a1\",\n",
       "        \"#918597\"\n",
       "    ],\n",
       "    \"series\": [\n",
       "        {\n",
       "            \"type\": \"bar\",\n",
       "            \"coordinateSystem\": \"polar\",\n",
       "            \"symbolSize\": 4,\n",
       "            \"data\": [\n",
       "                0.09502262443438914,\n",
       "                0.3310708898944193,\n",
       "                0.5897435897435898,\n",
       "                0.6078431372549019\n",
       "            ],\n",
       "            \"label\": {\n",
       "                \"show\": false,\n",
       "                \"position\": \"top\",\n",
       "                \"margin\": 8\n",
       "            },\n",
       "            \"areaStyle\": {\n",
       "                \"opacity\": 0\n",
       "            }\n",
       "        }\n",
       "    ],\n",
       "    \"legend\": [\n",
       "        {\n",
       "            \"data\": [\n",
       "                \"\"\n",
       "            ],\n",
       "            \"selected\": {\n",
       "                \"\": true\n",
       "            }\n",
       "        }\n",
       "    ],\n",
       "    \"tooltip\": {\n",
       "        \"show\": true,\n",
       "        \"trigger\": \"item\",\n",
       "        \"triggerOn\": \"mousemove|click\",\n",
       "        \"axisPointer\": {\n",
       "            \"type\": \"line\"\n",
       "        },\n",
       "        \"showContent\": true,\n",
       "        \"alwaysShowContent\": false,\n",
       "        \"showDelay\": 0,\n",
       "        \"hideDelay\": 100,\n",
       "        \"textStyle\": {\n",
       "            \"fontSize\": 14\n",
       "        },\n",
       "        \"borderWidth\": 0,\n",
       "        \"padding\": 5\n",
       "    },\n",
       "    \"radiusAxis\": {\n",
       "        \"type\": \"category\",\n",
       "        \"data\": [\n",
       "            \"Tableau\",\n",
       "            \"Excel\",\n",
       "            \"SQL\",\n",
       "            \"Python/R\\uff1a\"\n",
       "        ],\n",
       "        \"scale\": false\n",
       "    },\n",
       "    \"angleAxis\": {\n",
       "        \"clockwise\": false,\n",
       "        \"scale\": false,\n",
       "        \"splitNumber\": 5\n",
       "    },\n",
       "    \"polar\": {}\n",
       "};\n",
       "                chart_aa4590e721aa49e290d3f9f157b386a1.setOption(option_aa4590e721aa49e290d3f9f157b386a1);\n",
       "        });\n",
       "    </script>\n"
      ],
      "text/plain": [
       "<pyecharts.render.display.HTML at 0x28d60b03978>"
      ]
     },
     "execution_count": 368,
     "metadata": {},
     "output_type": "execute_result"
    }
   ],
   "source": [
    "py_rate = df[\"Python/R\"].value_counts(normalize=True).loc[1]\n",
    "sql_rate = df[\"SQL\"].value_counts(normalize=True).loc[1]\n",
    "tableau_rate = df[\"Tableau\"].value_counts(normalize=True).loc[1]\n",
    "excel_rate = df[\"Excel\"].value_counts(normalize=True).loc[1]\n",
    "print(\"职位技能需求：\")\n",
    "print(\"Python/R：\",py_rate)\n",
    "print(\"SQL：\",sql_rate)\n",
    "print(\"Excel：\",excel_rate)\n",
    "print(\"Tableau：\",tableau_rate)\n",
    "\n",
    "data = [tableau_rate, excel_rate, sql_rate, py_rate]\n",
    "cate = ['Tableau', 'Excel', 'SQL', 'Python/R：']\n",
    "\n",
    "\n",
    "polar = (\n",
    "    Polar()\n",
    "    .add_schema(\n",
    "        radiusaxis_opts=opts.RadiusAxisOpts(data=cate, type_=\"category\"),\n",
    "    )\n",
    "    .add(\"\", data, type_='bar')\n",
    "    \n",
    ")\n",
    "\n",
    "polar.render_notebook()"
   ]
  },
  {
   "cell_type": "markdown",
   "metadata": {},
   "source": [
    "要掌握Python/R的公司占到60.8%，和要求SQL的58.97%相接近。有33.1%的公司要求会Excel，要求会Tableau的公司仅占9.5%。这说明，想成为一名合格的数据分析师，Python/R以及SQL得掌握好。"
   ]
  },
  {
   "cell_type": "markdown",
   "metadata": {
    "pycharm": {
     "name": "#%% md\n"
    }
   },
   "source": [
    "是不是技能要求越高，所对应的薪水就越高呢？\n",
    "\n",
    "将技能分为:**Excel、SQL、Python/R**,由低到高的顺序，公司要求就取最高的那个。"
   ]
  },
  {
   "cell_type": "code",
   "execution_count": 369,
   "metadata": {},
   "outputs": [],
   "source": [
    "def get_level(x):\n",
    "    if x[\"Python/R\"] == 1:\n",
    "        x[\"skill\"] = \"Python/R\"\n",
    "    elif x[\"SQL\"] == 1:\n",
    "        x[\"skill\"] = \"SQL\"\n",
    "    elif x[\"Excel\"] == 1:\n",
    "        x[\"skill\"] = \"Excel\"\n",
    "    else:\n",
    "        x[\"skill\"] = \"其他\"\n",
    "    return x"
   ]
  },
  {
   "cell_type": "code",
   "execution_count": 370,
   "metadata": {},
   "outputs": [],
   "source": [
    "df = df.apply(get_level,axis=1)"
   ]
  },
  {
   "cell_type": "code",
   "execution_count": 371,
   "metadata": {},
   "outputs": [
    {
     "data": {
      "text/html": [
       "<div>\n",
       "<style scoped>\n",
       "    .dataframe tbody tr th:only-of-type {\n",
       "        vertical-align: middle;\n",
       "    }\n",
       "\n",
       "    .dataframe tbody tr th {\n",
       "        vertical-align: top;\n",
       "    }\n",
       "\n",
       "    .dataframe thead th {\n",
       "        text-align: right;\n",
       "    }\n",
       "</style>\n",
       "<table border=\"1\" class=\"dataframe\">\n",
       "  <thead>\n",
       "    <tr style=\"text-align: right;\">\n",
       "      <th></th>\n",
       "      <th>companyShortName</th>\n",
       "      <th>city</th>\n",
       "      <th>companySize</th>\n",
       "      <th>education</th>\n",
       "      <th>financeStage</th>\n",
       "      <th>industryField</th>\n",
       "      <th>salary</th>\n",
       "      <th>workYear</th>\n",
       "      <th>hitags</th>\n",
       "      <th>companyLabelList</th>\n",
       "      <th>job_detail</th>\n",
       "      <th>Python/R</th>\n",
       "      <th>SQL</th>\n",
       "      <th>Tableau</th>\n",
       "      <th>Excel</th>\n",
       "      <th>skill</th>\n",
       "    </tr>\n",
       "  </thead>\n",
       "  <tbody>\n",
       "    <tr>\n",
       "      <th>0</th>\n",
       "      <td>达达-京东到家</td>\n",
       "      <td>北京</td>\n",
       "      <td>2000人以上</td>\n",
       "      <td>本科</td>\n",
       "      <td>D轮及以上</td>\n",
       "      <td>消费生活</td>\n",
       "      <td>22.5</td>\n",
       "      <td>3-5年</td>\n",
       "      <td>['免费班车', '新婚红包', '定期调薪', '电脑补贴', '生子红包', '地铁周边...</td>\n",
       "      <td>['年底双薪', '绩效奖金', '岗位晋升', '定期体检']</td>\n",
       "      <td>1 、负责o2o电商日常运营数据的统计, 监控, 梳理指标体系；||2、基于海量用户行为数据...</td>\n",
       "      <td>1</td>\n",
       "      <td>1</td>\n",
       "      <td>0</td>\n",
       "      <td>1</td>\n",
       "      <td>Python/R</td>\n",
       "    </tr>\n",
       "  </tbody>\n",
       "</table>\n",
       "</div>"
      ],
      "text/plain": [
       "  companyShortName city companySize education financeStage industryField  \\\n",
       "0          达达-京东到家   北京     2000人以上        本科        D轮及以上          消费生活   \n",
       "\n",
       "   salary workYear                                             hitags  \\\n",
       "0    22.5     3-5年  ['免费班车', '新婚红包', '定期调薪', '电脑补贴', '生子红包', '地铁周边...   \n",
       "\n",
       "                   companyLabelList  \\\n",
       "0  ['年底双薪', '绩效奖金', '岗位晋升', '定期体检']   \n",
       "\n",
       "                                          job_detail  Python/R  SQL  Tableau  \\\n",
       "0  1 、负责o2o电商日常运营数据的统计, 监控, 梳理指标体系；||2、基于海量用户行为数据...         1    1        0   \n",
       "\n",
       "   Excel     skill  \n",
       "0      1  Python/R  "
      ]
     },
     "execution_count": 371,
     "metadata": {},
     "output_type": "execute_result"
    }
   ],
   "source": [
    "df.head(1)"
   ]
  },
  {
   "cell_type": "code",
   "execution_count": 372,
   "metadata": {
    "pycharm": {
     "name": "#%%\n"
    }
   },
   "outputs": [
    {
     "data": {
      "text/plain": [
       "Text(0, 0.5, '技能')"
      ]
     },
     "execution_count": 372,
     "metadata": {},
     "output_type": "execute_result"
    },
    {
     "data": {
      "image/png": "[encoded data removed]",
      "text/plain": [
       "<Figure size 864x576 with 1 Axes>"
      ]
     },
     "metadata": {},
     "output_type": "display_data"
    }
   ],
   "source": [
    "fig,ax = plt.subplots(figsize=(12,8))\n",
    "fig.text(x=0.02, y=0.90, s='             不同技能的薪资水平对比            ', \n",
    "         fontsize=32, weight='bold', color='white', backgroundcolor='#c5b783')\n",
    "sns.boxplot(y=\"skill\",x=\"salary\",data=df.loc[df.skill!=\"其他\"],palette=\"husl\",order=[\"Python/R\",\"SQL\",\"Excel\"])\n",
    "plt.tick_params(axis=\"both\",labelsize=16)\n",
    "ax.xaxis.grid(which='both', linewidth=0.75)\n",
    "plt.xticks(np.arange(0,61,10), [str(i)+\"k\" for i in range(0,61,10)])\n",
    "plt.box(False)\n",
    "plt.xlabel('工资', fontsize=18)\n",
    "plt.ylabel('技能', fontsize=18)"
   ]
  },
  {
   "cell_type": "markdown",
   "metadata": {},
   "source": [
    "要求会Python/R和要求会SQL所对应的薪资中位数均为20k，会Python/R并没有比会SQL在薪资上更有优势，但仅要求会Excel的岗位对应的薪资则明显低于前两者。因此，从数据的角度来看，想往数据分析方向走的话，技能方面可以先把SQL掌握了（SQL入门简单但精通并不容易的）。"
   ]
  },
  {
   "cell_type": "markdown",
   "metadata": {
    "pycharm": {
     "name": "#%% md\n"
    }
   },
   "source": [
    "### 学历要求"
   ]
  },
  {
   "cell_type": "code",
   "execution_count": 373,
   "metadata": {},
   "outputs": [],
   "source": [
    "education = df[\"education\"].value_counts(normalize=True)"
   ]
  },
  {
   "cell_type": "code",
   "execution_count": 374,
   "metadata": {},
   "outputs": [
    {
     "name": "stderr",
     "output_type": "stream",
     "text": [
      "D:\\Python\\lib\\site-packages\\pyecharts\\charts\\chart.py:14: PendingDeprecationWarning: pyecharts 各 Chart 将在 1.9.0 版本开始强制使用 ChartItem 进行数据项配置\n",
      "  super().__init__(init_opts=init_opts)\n"
     ]
    }
   ],
   "source": [
    "from pyecharts.commons.utils import JsCode\n",
    "def new_label_opts():\n",
    "        return opts.LabelOpts(formatter=JsCode(\"学历要求\"))\n",
    "pie = (\n",
    "    Pie()\n",
    "    .add(\n",
    "        \"\",\n",
    "        [list(z) for z in zip(education.index, np.round(education.values,4))],\n",
    "        center=[\"50%\", \"50%\"],\n",
    "        radius=[\"50%\",\"75%\"],\n",
    "        label_opts=new_label_opts()\n",
    "    )\n",
    "    .set_global_opts(\n",
    "        title_opts=opts.TitleOpts(title=\"\"),\n",
    "        legend_opts=opts.LegendOpts(\n",
    "                is_show=False\n",
    "            )\n",
    "    )\n",
    "    .set_series_opts(label_opts=opts.LabelOpts(formatter=\"{b}: {d}%\")))"
   ]
  },
  {
   "cell_type": "code",
   "execution_count": 375,
   "metadata": {
    "pycharm": {
     "name": "#%%\n"
    }
   },
   "outputs": [
    {
     "data": {
      "text/html": [
       "\n",
       "<script>\n",
       "    require.config({\n",
       "        paths: {\n",
       "            'echarts':'https://assets.pyecharts.org/assets/echarts.min'\n",
       "        }\n",
       "    });\n",
       "</script>\n",
       "\n",
       "        <div id=\"6314b1be4564462ba694cd3cbd5e95fb\" style=\"width:900px; height:500px;\"></div>\n",
       "\n",
       "<script>\n",
       "        require(['echarts'], function(echarts) {\n",
       "                var chart_6314b1be4564462ba694cd3cbd5e95fb = echarts.init(\n",
       "                    document.getElementById('6314b1be4564462ba694cd3cbd5e95fb'), 'white', {renderer: 'canvas'});\n",
       "                var option_6314b1be4564462ba694cd3cbd5e95fb = {\n",
       "    \"animation\": true,\n",
       "    \"animationThreshold\": 2000,\n",
       "    \"animationDuration\": 1000,\n",
       "    \"animationEasing\": \"cubicOut\",\n",
       "    \"animationDelay\": 0,\n",
       "    \"animationDurationUpdate\": 300,\n",
       "    \"animationEasingUpdate\": \"cubicOut\",\n",
       "    \"animationDelayUpdate\": 0,\n",
       "    \"color\": [\n",
       "        \"#c23531\",\n",
       "        \"#2f4554\",\n",
       "        \"#61a0a8\",\n",
       "        \"#d48265\",\n",
       "        \"#749f83\",\n",
       "        \"#ca8622\",\n",
       "        \"#bda29a\",\n",
       "        \"#6e7074\",\n",
       "        \"#546570\",\n",
       "        \"#c4ccd3\",\n",
       "        \"#f05b72\",\n",
       "        \"#ef5b9c\",\n",
       "        \"#f47920\",\n",
       "        \"#905a3d\",\n",
       "        \"#fab27b\",\n",
       "        \"#2a5caa\",\n",
       "        \"#444693\",\n",
       "        \"#726930\",\n",
       "        \"#b2d235\",\n",
       "        \"#6d8346\",\n",
       "        \"#ac6767\",\n",
       "        \"#1d953f\",\n",
       "        \"#6950a1\",\n",
       "        \"#918597\"\n",
       "    ],\n",
       "    \"series\": [\n",
       "        {\n",
       "            \"type\": \"pie\",\n",
       "            \"clockwise\": true,\n",
       "            \"data\": [\n",
       "                {\n",
       "                    \"name\": \"\\u672c\\u79d1\",\n",
       "                    \"value\": 0.8356\n",
       "                },\n",
       "                {\n",
       "                    \"name\": \"\\u5927\\u4e13\",\n",
       "                    \"value\": 0.0633\n",
       "                },\n",
       "                {\n",
       "                    \"name\": \"\\u4e0d\\u9650\",\n",
       "                    \"value\": 0.0611\n",
       "                },\n",
       "                {\n",
       "                    \"name\": \"\\u7855\\u58eb\",\n",
       "                    \"value\": 0.04\n",
       "                }\n",
       "            ],\n",
       "            \"radius\": [\n",
       "                \"50%\",\n",
       "                \"75%\"\n",
       "            ],\n",
       "            \"center\": [\n",
       "                \"50%\",\n",
       "                \"50%\"\n",
       "            ],\n",
       "            \"label\": {\n",
       "                \"show\": true,\n",
       "                \"position\": \"top\",\n",
       "                \"margin\": 8,\n",
       "                \"formatter\": \"{b}: {d}%\"\n",
       "            },\n",
       "            \"rippleEffect\": {\n",
       "                \"show\": true,\n",
       "                \"brushType\": \"stroke\",\n",
       "                \"scale\": 2.5,\n",
       "                \"period\": 4\n",
       "            }\n",
       "        }\n",
       "    ],\n",
       "    \"legend\": [\n",
       "        {\n",
       "            \"data\": [\n",
       "                \"\\u672c\\u79d1\",\n",
       "                \"\\u5927\\u4e13\",\n",
       "                \"\\u4e0d\\u9650\",\n",
       "                \"\\u7855\\u58eb\"\n",
       "            ],\n",
       "            \"selected\": {},\n",
       "            \"show\": false,\n",
       "            \"padding\": 5,\n",
       "            \"itemGap\": 10,\n",
       "            \"itemWidth\": 25,\n",
       "            \"itemHeight\": 14\n",
       "        }\n",
       "    ],\n",
       "    \"tooltip\": {\n",
       "        \"show\": true,\n",
       "        \"trigger\": \"item\",\n",
       "        \"triggerOn\": \"mousemove|click\",\n",
       "        \"axisPointer\": {\n",
       "            \"type\": \"line\"\n",
       "        },\n",
       "        \"showContent\": true,\n",
       "        \"alwaysShowContent\": false,\n",
       "        \"showDelay\": 0,\n",
       "        \"hideDelay\": 100,\n",
       "        \"textStyle\": {\n",
       "            \"fontSize\": 14\n",
       "        },\n",
       "        \"borderWidth\": 0,\n",
       "        \"padding\": 5\n",
       "    },\n",
       "    \"title\": [\n",
       "        {\n",
       "            \"padding\": 5,\n",
       "            \"itemGap\": 10\n",
       "        }\n",
       "    ]\n",
       "};\n",
       "                chart_6314b1be4564462ba694cd3cbd5e95fb.setOption(option_6314b1be4564462ba694cd3cbd5e95fb);\n",
       "        });\n",
       "    </script>\n"
      ],
      "text/plain": [
       "<pyecharts.render.display.HTML at 0x28d61782128>"
      ]
     },
     "execution_count": 375,
     "metadata": {},
     "output_type": "execute_result"
    }
   ],
   "source": [
    "pie.render_notebook()"
   ]
  },
  {
   "cell_type": "markdown",
   "metadata": {
    "pycharm": {
     "name": "#%% md\n"
    }
   },
   "source": [
    "探讨一下，学历和薪资的关系"
   ]
  },
  {
   "cell_type": "code",
   "execution_count": 376,
   "metadata": {
    "pycharm": {
     "name": "#%%\n"
    }
   },
   "outputs": [
    {
     "data": {
      "text/plain": [
       "Text(0, 0.5, '技能')"
      ]
     },
     "execution_count": 376,
     "metadata": {},
     "output_type": "execute_result"
    },
    {
     "data": {
      "image/png": "[encoded data removed]",
      "text/plain": [
       "<Figure size 864x576 with 1 Axes>"
      ]
     },
     "metadata": {},
     "output_type": "display_data"
    }
   ],
   "source": [
    "fig,ax = plt.subplots(figsize=(12,8))\n",
    "fig.text(x=0.02, y=0.90, s='             不同学历的薪资水平对比            ', \n",
    "         fontsize=32, weight='bold', color='white', backgroundcolor='#c5b783')\n",
    "sns.boxplot(y=\"education\",x=\"salary\",data=df,palette=\"husl\",order=[\"硕士\",\"本科\",\"大专\", '不限'])\n",
    "plt.tick_params(axis=\"both\",labelsize=16)\n",
    "ax.xaxis.grid(which='both', linewidth=0.75)\n",
    "plt.xticks(np.arange(0,61,10), [str(i)+\"k\" for i in range(0,61,10)])\n",
    "plt.box(False)\n",
    "plt.xlabel('工资', fontsize=18)\n",
    "plt.ylabel('技能', fontsize=18)"
   ]
  },
  {
   "cell_type": "markdown",
   "metadata": {},
   "source": [
    "从学历方面，并不能看出硕士学位对薪资的显著提升，可能是由于样本量偏少，但是其变化的波动要小于本科学位的薪资，说明硕士学位占据一定的优势。"
   ]
  },
  {
   "cell_type": "markdown",
   "metadata": {
    "pycharm": {
     "name": "#%% md\n"
    }
   },
   "source": [
    "再来探讨一下，不同城市对学历的要求"
   ]
  },
  {
   "cell_type": "code",
   "execution_count": 377,
   "metadata": {},
   "outputs": [
    {
     "data": {
      "text/html": [
       "<div>\n",
       "<style scoped>\n",
       "    .dataframe tbody tr th:only-of-type {\n",
       "        vertical-align: middle;\n",
       "    }\n",
       "\n",
       "    .dataframe tbody tr th {\n",
       "        vertical-align: top;\n",
       "    }\n",
       "\n",
       "    .dataframe thead th {\n",
       "        text-align: right;\n",
       "    }\n",
       "</style>\n",
       "<table border=\"1\" class=\"dataframe\">\n",
       "  <thead>\n",
       "    <tr style=\"text-align: right;\">\n",
       "      <th>education</th>\n",
       "      <th>不限</th>\n",
       "      <th>大专</th>\n",
       "      <th>本科</th>\n",
       "      <th>硕士</th>\n",
       "    </tr>\n",
       "    <tr>\n",
       "      <th>city</th>\n",
       "      <th></th>\n",
       "      <th></th>\n",
       "      <th></th>\n",
       "      <th></th>\n",
       "    </tr>\n",
       "  </thead>\n",
       "  <tbody>\n",
       "    <tr>\n",
       "      <th>上海</th>\n",
       "      <td>17.220000</td>\n",
       "      <td>14.388889</td>\n",
       "      <td>21.681004</td>\n",
       "      <td>20.433333</td>\n",
       "    </tr>\n",
       "    <tr>\n",
       "      <th>北京</th>\n",
       "      <td>20.800000</td>\n",
       "      <td>17.083333</td>\n",
       "      <td>22.803630</td>\n",
       "      <td>18.461538</td>\n",
       "    </tr>\n",
       "    <tr>\n",
       "      <th>南京</th>\n",
       "      <td>15.000000</td>\n",
       "      <td>NaN</td>\n",
       "      <td>15.772727</td>\n",
       "      <td>NaN</td>\n",
       "    </tr>\n",
       "    <tr>\n",
       "      <th>厦门</th>\n",
       "      <td>12.000000</td>\n",
       "      <td>9.000000</td>\n",
       "      <td>13.250000</td>\n",
       "      <td>12.500000</td>\n",
       "    </tr>\n",
       "    <tr>\n",
       "      <th>天津</th>\n",
       "      <td>NaN</td>\n",
       "      <td>9.000000</td>\n",
       "      <td>9.000000</td>\n",
       "      <td>NaN</td>\n",
       "    </tr>\n",
       "    <tr>\n",
       "      <th>广州</th>\n",
       "      <td>19.041667</td>\n",
       "      <td>8.825000</td>\n",
       "      <td>16.019380</td>\n",
       "      <td>16.000000</td>\n",
       "    </tr>\n",
       "    <tr>\n",
       "      <th>成都</th>\n",
       "      <td>13.500000</td>\n",
       "      <td>7.500000</td>\n",
       "      <td>13.093750</td>\n",
       "      <td>8.000000</td>\n",
       "    </tr>\n",
       "    <tr>\n",
       "      <th>杭州</th>\n",
       "      <td>23.125000</td>\n",
       "      <td>16.333333</td>\n",
       "      <td>21.280899</td>\n",
       "      <td>18.666667</td>\n",
       "    </tr>\n",
       "    <tr>\n",
       "      <th>武汉</th>\n",
       "      <td>NaN</td>\n",
       "      <td>5.500000</td>\n",
       "      <td>16.571429</td>\n",
       "      <td>10.750000</td>\n",
       "    </tr>\n",
       "    <tr>\n",
       "      <th>深圳</th>\n",
       "      <td>15.750000</td>\n",
       "      <td>12.611111</td>\n",
       "      <td>20.907583</td>\n",
       "      <td>24.944444</td>\n",
       "    </tr>\n",
       "    <tr>\n",
       "      <th>苏州</th>\n",
       "      <td>NaN</td>\n",
       "      <td>8.000000</td>\n",
       "      <td>18.100000</td>\n",
       "      <td>18.000000</td>\n",
       "    </tr>\n",
       "    <tr>\n",
       "      <th>西安</th>\n",
       "      <td>7.500000</td>\n",
       "      <td>6.000000</td>\n",
       "      <td>9.642857</td>\n",
       "      <td>NaN</td>\n",
       "    </tr>\n",
       "    <tr>\n",
       "      <th>长沙</th>\n",
       "      <td>NaN</td>\n",
       "      <td>5.500000</td>\n",
       "      <td>11.600000</td>\n",
       "      <td>15.166667</td>\n",
       "    </tr>\n",
       "  </tbody>\n",
       "</table>\n",
       "</div>"
      ],
      "text/plain": [
       "education         不限         大专         本科         硕士\n",
       "city                                                 \n",
       "上海         17.220000  14.388889  21.681004  20.433333\n",
       "北京         20.800000  17.083333  22.803630  18.461538\n",
       "南京         15.000000        NaN  15.772727        NaN\n",
       "厦门         12.000000   9.000000  13.250000  12.500000\n",
       "天津               NaN   9.000000   9.000000        NaN\n",
       "广州         19.041667   8.825000  16.019380  16.000000\n",
       "成都         13.500000   7.500000  13.093750   8.000000\n",
       "杭州         23.125000  16.333333  21.280899  18.666667\n",
       "武汉               NaN   5.500000  16.571429  10.750000\n",
       "深圳         15.750000  12.611111  20.907583  24.944444\n",
       "苏州               NaN   8.000000  18.100000  18.000000\n",
       "西安          7.500000   6.000000   9.642857        NaN\n",
       "长沙               NaN   5.500000  11.600000  15.166667"
      ]
     },
     "execution_count": 377,
     "metadata": {},
     "output_type": "execute_result"
    }
   ],
   "source": [
    "C_E_S = df.pivot_table(index=\"city\",columns=\"education\",values=\"salary\")\n",
    "C_E_S\n"
   ]
  },
  {
   "cell_type": "code",
   "execution_count": 378,
   "metadata": {
    "pycharm": {
     "name": "#%%\n"
    }
   },
   "outputs": [
    {
     "data": {
      "text/plain": [
       "(Text(0.5, 51.640625, ''), Text(69.078125, 0.5, ''))"
      ]
     },
     "execution_count": 378,
     "metadata": {},
     "output_type": "execute_result"
    },
    {
     "data": {
      "image/png": "[encoded data removed]",
      "text/plain": [
       "<Figure size 720x576 with 2 Axes>"
      ]
     },
     "metadata": {},
     "output_type": "display_data"
    }
   ],
   "source": [
    "fig,ax = plt.subplots(figsize=(10,8))\n",
    "sns.heatmap(C_E_S.loc[df[\"city\"].value_counts().index],cmap=\"RdBu_r\",center=20,annot=True,annot_kws={'fontsize':14})\n",
    "plt.tick_params(axis='x', which='major', labelsize=16)\n",
    "plt.tick_params(axis='y', which='major', labelsize=16,labelrotation=0)\n",
    "plt.xlabel(\"\"),plt.ylabel(\"\")"
   ]
  },
  {
   "cell_type": "markdown",
   "metadata": {},
   "source": [
    "可以看出学历确实影响着薪资水平，随着学历提高，薪资也在提高。\n",
    "\n",
    "回到广州的问题上，在不同的学历情况下，纵向比较，确实要少于北上深。"
   ]
  },
  {
   "cell_type": "markdown",
   "metadata": {
    "pycharm": {
     "name": "#%% md\n"
    }
   },
   "source": [
    "### 不同规模公司在招人要求上的差异"
   ]
  },
  {
   "cell_type": "markdown",
   "metadata": {
    "pycharm": {
     "name": "#%% md\n"
    }
   },
   "source": [
    "求职时，我们选择大公司还是小公司呢？\n",
    "\n",
    "进大公司又对我们有哪些要求？\n",
    "\n",
    "为了进一步分析，我们将公司规模、经验要求以及薪资信息绘制到散点图上。"
   ]
  },
  {
   "cell_type": "code",
   "execution_count": 379,
   "metadata": {},
   "outputs": [],
   "source": [
    "# 设置公司规模标签\n",
    "company_size_map = {\n",
    "    \"2000人以上\": 6,\n",
    "    \"500-2000人\": 5,\n",
    "    \"150-500人\": 4,\n",
    "    \"50-150人\": 3,\n",
    "    \"15-50人\": 2,\n",
    "    \"少于15人\": 1\n",
    "}\n",
    "# 设置工作经验标签\n",
    "workYear_map = {\n",
    "    \"5-10年\": 5,\n",
    "    \"3-5年\": 4,\n",
    "    \"1-3年\": 3,\n",
    "    \"1年以下\": 2,\n",
    "    \"应届毕业生\": 1\n",
    "}\n",
    "# \n",
    "df[\"company_size\"] = df[\"companySize\"].map(company_size_map)\n",
    "df[\"work_year\"] = df[\"workYear\"].map(workYear_map)"
   ]
  },
  {
   "cell_type": "code",
   "execution_count": 380,
   "metadata": {},
   "outputs": [],
   "source": [
    "# 升序排列\n",
    "df = df.sort_values(by=\"company_size\",ascending=True)"
   ]
  },
  {
   "cell_type": "code",
   "execution_count": 381,
   "metadata": {},
   "outputs": [],
   "source": [
    "# 找出工作经验不为空\n",
    "df_plot = df.loc[~df.work_year.isna()]"
   ]
  },
  {
   "cell_type": "code",
   "execution_count": 382,
   "metadata": {},
   "outputs": [
    {
     "name": "stderr",
     "output_type": "stream",
     "text": [
      "D:\\Python\\lib\\site-packages\\pandas\\core\\indexing.py:845: SettingWithCopyWarning: \n",
      "A value is trying to be set on a copy of a slice from a DataFrame.\n",
      "Try using .loc[row_indexer,col_indexer] = value instead\n",
      "\n",
      "See the caveats in the documentation: https://pandas.pydata.org/pandas-docs/stable/user_guide/indexing.html#returning-a-view-versus-a-copy\n",
      "  self.obj[key] = _infer_fill_value(value)\n",
      "D:\\Python\\lib\\site-packages\\pandas\\core\\indexing.py:966: SettingWithCopyWarning: \n",
      "A value is trying to be set on a copy of a slice from a DataFrame.\n",
      "Try using .loc[row_indexer,col_indexer] = value instead\n",
      "\n",
      "See the caveats in the documentation: https://pandas.pydata.org/pandas-docs/stable/user_guide/indexing.html#returning-a-view-versus-a-copy\n",
      "  self.obj[item] = s\n"
     ]
    }
   ],
   "source": [
    "color_map = {\n",
    "    5:\"#ff0000\",\n",
    "    4:\"#ffa500\",\n",
    "    3:\"#c5b783\",\n",
    "    2:\"#3c7f99\",\n",
    "    1:\"#0000cd\"\n",
    "}\n",
    "df_plot.loc[:,\"color\"] = df_plot.work_year.map(color_map)\n",
    "df_plot.reset_index(drop=True,inplace=True)"
   ]
  },
  {
   "cell_type": "code",
   "execution_count": 383,
   "metadata": {},
   "outputs": [],
   "source": [
    "def seed_scale_plot():\n",
    "    seeds = np.arange(1, 6)\n",
    "    y = np.zeros(len(seeds),dtype=int)\n",
    "    s = seeds * 100\n",
    "    colors = ['#ff0000', '#ffa500', '#c5b783', '#3c7f99', '#0000cd'][::-1]\n",
    "#     colors = sns.color_palette(\"husl\", n_colors=6)  \n",
    "    fig,ax = plt.subplots(figsize=(12,1))\n",
    "    plt.scatter(seeds,y,s=s,c=colors,alpha=0.3)\n",
    "    plt.scatter(seeds,y,c=colors)\n",
    "    plt.box(False)\n",
    "    plt.grid(False)\n",
    "    plt.xticks(ticks=seeds,labels=list(workYear_map.keys())[::-1],fontsize=14)\n",
    "    plt.yticks(np.arange(1),labels=['  经验：'],fontsize=16)"
   ]
  },
  {
   "cell_type": "code",
   "execution_count": 384,
   "metadata": {},
   "outputs": [
    {
     "data": {
      "image/png": "[encoded data removed]",
      "text/plain": [
       "<Figure size 864x576 with 1 Axes>"
      ]
     },
     "metadata": {},
     "output_type": "display_data"
    },
    {
     "data": {
      "image/png": "[encoded data removed]",
      "text/plain": [
       "<Figure size 864x72 with 1 Axes>"
      ]
     },
     "metadata": {},
     "output_type": "display_data"
    }
   ],
   "source": [
    "fig, ax = plt.subplots(figsize=(12, 8))\n",
    "fig.text(x=0.03, y=0.92, s='            不同规模公司的用人需求差异          ', fontsize=32, \n",
    "         weight='bold', color='white', backgroundcolor='#3c7f99')\n",
    "plt.scatter(df_plot.salary, df_plot[\"companySize\"],  s=df_plot[\"work_year\"] * 100 ,alpha=0.35, c=df_plot[\"color\"].tolist())\n",
    "plt.scatter(df_plot.salary, df_plot[\"companySize\"], c=df_plot[\"color\"])\n",
    "plt.tick_params(axis='both', which='both', length=0)\n",
    "plt.tick_params(axis='both', which='major', labelsize=16)\n",
    "ax.xaxis.grid(which='both', linewidth=0.75)\n",
    "plt.xticks(np.arange(0,61,10), [str(i)+\"k\" for i in range(0,61,10)])\n",
    "plt.xlabel('工资', fontsize=18)\n",
    "plt.box(False)\n",
    "seed_scale_plot()"
   ]
  },
  {
   "cell_type": "markdown",
   "metadata": {
    "pycharm": {
     "name": "#%% md\n"
    }
   },
   "source": [
    "对小公司（50人及以下）而言，大部分公司开出的薪资不会超过30k，规模更大的公司开的起更高的薪水，即便是对于一些工作经验不到1年的数据分析师，规模稍大的公司也能开出20k-30k的薪水，所以如果从面向工资编程的角度看，大公司具有较为明显的优势。另一方面，从图中可以看到，当薪水超过30k时，公司对数据分析师的经验要求大多都是3-5年以及5-10年，此时经验成为了较大的门槛。接下来看看大公司在技能方面的要求，这里定义2000人以上的公司为大公司。"
   ]
  },
  {
   "cell_type": "code",
   "execution_count": 385,
   "metadata": {},
   "outputs": [],
   "source": [
    "df_skill = df.loc[(df[\"companySize\"]==\"2000人以上\")&(df.skill!=\"其他\")][\"skill\"].value_counts(normalize=True)"
   ]
  },
  {
   "cell_type": "code",
   "execution_count": 386,
   "metadata": {
    "pycharm": {
     "name": "#%%\n"
    }
   },
   "outputs": [],
   "source": [
    "df_skill = round(df_skill, 2)"
   ]
  },
  {
   "cell_type": "code",
   "execution_count": 387,
   "metadata": {
    "pycharm": {
     "name": "#%%\n"
    }
   },
   "outputs": [
    {
     "name": "stderr",
     "output_type": "stream",
     "text": [
      "D:\\Python\\lib\\site-packages\\pyecharts\\charts\\chart.py:14: PendingDeprecationWarning: pyecharts 各 Chart 将在 1.9.0 版本开始强制使用 ChartItem 进行数据项配置\n",
      "  super().__init__(init_opts=init_opts)\n"
     ]
    },
    {
     "data": {
      "text/html": [
       "\n",
       "<script>\n",
       "    require.config({\n",
       "        paths: {\n",
       "            'echarts':'https://assets.pyecharts.org/assets/echarts.min'\n",
       "        }\n",
       "    });\n",
       "</script>\n",
       "\n",
       "        <div id=\"2870d9ffcf354886b2fd8233aee00767\" style=\"width:900px; height:500px;\"></div>\n",
       "\n",
       "<script>\n",
       "        require(['echarts'], function(echarts) {\n",
       "                var chart_2870d9ffcf354886b2fd8233aee00767 = echarts.init(\n",
       "                    document.getElementById('2870d9ffcf354886b2fd8233aee00767'), 'white', {renderer: 'canvas'});\n",
       "                var option_2870d9ffcf354886b2fd8233aee00767 = {\n",
       "    \"animation\": true,\n",
       "    \"animationThreshold\": 2000,\n",
       "    \"animationDuration\": 1000,\n",
       "    \"animationEasing\": \"cubicOut\",\n",
       "    \"animationDelay\": 0,\n",
       "    \"animationDurationUpdate\": 300,\n",
       "    \"animationEasingUpdate\": \"cubicOut\",\n",
       "    \"animationDelayUpdate\": 0,\n",
       "    \"color\": [\n",
       "        \"#c23531\",\n",
       "        \"#2f4554\",\n",
       "        \"#61a0a8\",\n",
       "        \"#d48265\",\n",
       "        \"#749f83\",\n",
       "        \"#ca8622\",\n",
       "        \"#bda29a\",\n",
       "        \"#6e7074\",\n",
       "        \"#546570\",\n",
       "        \"#c4ccd3\",\n",
       "        \"#f05b72\",\n",
       "        \"#ef5b9c\",\n",
       "        \"#f47920\",\n",
       "        \"#905a3d\",\n",
       "        \"#fab27b\",\n",
       "        \"#2a5caa\",\n",
       "        \"#444693\",\n",
       "        \"#726930\",\n",
       "        \"#b2d235\",\n",
       "        \"#6d8346\",\n",
       "        \"#ac6767\",\n",
       "        \"#1d953f\",\n",
       "        \"#6950a1\",\n",
       "        \"#918597\"\n",
       "    ],\n",
       "    \"series\": [\n",
       "        {\n",
       "            \"type\": \"bar\",\n",
       "            \"legendHoverLink\": true,\n",
       "            \"data\": [\n",
       "                0.76,\n",
       "                0.17,\n",
       "                0.06\n",
       "            ],\n",
       "            \"showBackground\": false,\n",
       "            \"barMinHeight\": 0,\n",
       "            \"barCategoryGap\": \"20%\",\n",
       "            \"barGap\": \"30%\",\n",
       "            \"large\": false,\n",
       "            \"largeThreshold\": 400,\n",
       "            \"seriesLayoutBy\": \"column\",\n",
       "            \"datasetIndex\": 0,\n",
       "            \"clip\": true,\n",
       "            \"zlevel\": 0,\n",
       "            \"z\": 2,\n",
       "            \"label\": {\n",
       "                \"show\": true,\n",
       "                \"position\": \"top\",\n",
       "                \"margin\": 8\n",
       "            }\n",
       "        }\n",
       "    ],\n",
       "    \"legend\": [\n",
       "        {\n",
       "            \"data\": [\n",
       "                \"\"\n",
       "            ],\n",
       "            \"selected\": {\n",
       "                \"\": true\n",
       "            },\n",
       "            \"show\": true,\n",
       "            \"padding\": 5,\n",
       "            \"itemGap\": 10,\n",
       "            \"itemWidth\": 25,\n",
       "            \"itemHeight\": 14\n",
       "        }\n",
       "    ],\n",
       "    \"tooltip\": {\n",
       "        \"show\": true,\n",
       "        \"trigger\": \"item\",\n",
       "        \"triggerOn\": \"mousemove|click\",\n",
       "        \"axisPointer\": {\n",
       "            \"type\": \"line\"\n",
       "        },\n",
       "        \"showContent\": true,\n",
       "        \"alwaysShowContent\": false,\n",
       "        \"showDelay\": 0,\n",
       "        \"hideDelay\": 100,\n",
       "        \"textStyle\": {\n",
       "            \"fontSize\": 14\n",
       "        },\n",
       "        \"borderWidth\": 0,\n",
       "        \"padding\": 5\n",
       "    },\n",
       "    \"xAxis\": [\n",
       "        {\n",
       "            \"show\": true,\n",
       "            \"scale\": false,\n",
       "            \"nameLocation\": \"end\",\n",
       "            \"nameGap\": 15,\n",
       "            \"gridIndex\": 0,\n",
       "            \"inverse\": false,\n",
       "            \"offset\": 0,\n",
       "            \"splitNumber\": 5,\n",
       "            \"minInterval\": 0,\n",
       "            \"splitLine\": {\n",
       "                \"show\": false,\n",
       "                \"lineStyle\": {\n",
       "                    \"show\": true,\n",
       "                    \"width\": 1,\n",
       "                    \"opacity\": 1,\n",
       "                    \"curveness\": 0,\n",
       "                    \"type\": \"solid\"\n",
       "                }\n",
       "            },\n",
       "            \"data\": [\n",
       "                \"Python/R\",\n",
       "                \"SQL\",\n",
       "                \"Excel\"\n",
       "            ]\n",
       "        }\n",
       "    ],\n",
       "    \"yAxis\": [\n",
       "        {\n",
       "            \"show\": true,\n",
       "            \"scale\": false,\n",
       "            \"nameLocation\": \"end\",\n",
       "            \"nameGap\": 15,\n",
       "            \"gridIndex\": 0,\n",
       "            \"inverse\": false,\n",
       "            \"offset\": 0,\n",
       "            \"splitNumber\": 5,\n",
       "            \"minInterval\": 0,\n",
       "            \"splitLine\": {\n",
       "                \"show\": false,\n",
       "                \"lineStyle\": {\n",
       "                    \"show\": true,\n",
       "                    \"width\": 1,\n",
       "                    \"opacity\": 1,\n",
       "                    \"curveness\": 0,\n",
       "                    \"type\": \"solid\"\n",
       "                }\n",
       "            }\n",
       "        }\n",
       "    ],\n",
       "    \"title\": [\n",
       "        {\n",
       "            \"text\": \"\\u5927\\u516c\\u53f8\\u5bf9\\u6280\\u80fd\\u7684\\u8981\\u6c42\\u5360\\u6bd4\",\n",
       "            \"padding\": 5,\n",
       "            \"itemGap\": 10\n",
       "        }\n",
       "    ]\n",
       "};\n",
       "                chart_2870d9ffcf354886b2fd8233aee00767.setOption(option_2870d9ffcf354886b2fd8233aee00767);\n",
       "        });\n",
       "    </script>\n"
      ],
      "text/plain": [
       "<pyecharts.render.display.HTML at 0x28d63c2f9e8>"
      ]
     },
     "execution_count": 387,
     "metadata": {},
     "output_type": "execute_result"
    }
   ],
   "source": [
    "bar = Bar()\n",
    "bar.add_xaxis(df_skill.index.tolist())\n",
    "bar.add_yaxis('',df_skill.tolist())\n",
    "bar.set_global_opts(title_opts=opts.TitleOpts(title = '大公司对技能的要求占比'))\n",
    "bar.load_javascript()\n",
    "bar.render_notebook()"
   ]
  },
  {
   "cell_type": "markdown",
   "metadata": {},
   "source": [
    "76%的大公司对岗位要求掌握python/R，如果想进大公司，也必须要把Python/R掌握到位。"
   ]
  },
  {
   "cell_type": "markdown",
   "metadata": {},
   "source": [
    "## 综上所述：\n",
    "- 一线城市北上广深对数据分析师的需求量较大\n",
    "- 电商、金融领域的相对需求较大\n",
    "- 北京、上海、杭州、深圳给出的薪资平均为20K，为第一梯队\n",
    "- 广州作为一线城市，给出的薪资并没有相对优势\n",
    "- 技能掌握Python，并且具有学历上的优势，会较容易取得高薪，但绝大部分学历要求本科即可。\n",
    "- 如果想进大厂，最好掌握Python。"
   ]
  }
 ],
 "metadata": {
  "kernelspec": {
   "display_name": "Python 3",
   "language": "python",
   "name": "python3"
  },
  "language_info": {
   "codemirror_mode": {
    "name": "ipython",
    "version": 3
   },
   "file_extension": ".py",
   "mimetype": "text/x-python",
   "name": "python",
   "nbconvert_exporter": "python",
   "pygments_lexer": "ipython3",
   "version": "3.7.0"
  }
 },
 "nbformat": 4,
 "nbformat_minor": 1
}